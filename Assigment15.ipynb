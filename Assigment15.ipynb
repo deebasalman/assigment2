{
  "nbformat": 4,
  "nbformat_minor": 0,
  "metadata": {
    "colab": {
      "provenance": []
    },
    "kernelspec": {
      "name": "python3",
      "display_name": "Python 3"
    },
    "language_info": {
      "name": "python"
    }
  },
  "cells": [
    {
      "cell_type": "markdown",
      "source": [
        "1.How many seconds are in an hour? Use the interactive interpreter as a calculator and multiply the\n",
        "number of seconds in a minute (60) by the number of minutes in an hour (also 60)."
      ],
      "metadata": {
        "id": "qr3gSUC17Hwj"
      }
    },
    {
      "cell_type": "code",
      "execution_count": 1,
      "metadata": {
        "colab": {
          "base_uri": "https://localhost:8080/"
        },
        "id": "DeWmh_kW7CVI",
        "outputId": "47a3d846-16e8-45fc-e215-5cd9d16294c9"
      },
      "outputs": [
        {
          "output_type": "execute_result",
          "data": {
            "text/plain": [
              "3600"
            ]
          },
          "metadata": {},
          "execution_count": 1
        }
      ],
      "source": [
        "60*60"
      ]
    },
    {
      "cell_type": "markdown",
      "source": [
        "2. Assign the result from the previous task (seconds in an hour) to a variable called\n",
        "seconds_per_hour."
      ],
      "metadata": {
        "id": "oD9sSp6g7UyL"
      }
    },
    {
      "cell_type": "code",
      "source": [
        "second_per_hour=60*60"
      ],
      "metadata": {
        "id": "SucKccoU7Wx5"
      },
      "execution_count": 2,
      "outputs": []
    },
    {
      "cell_type": "code",
      "source": [
        "second_per_hour"
      ],
      "metadata": {
        "colab": {
          "base_uri": "https://localhost:8080/"
        },
        "id": "WWsAJBtP7f6C",
        "outputId": "06740846-0806-41d9-c64e-c0ac0d2b940b"
      },
      "execution_count": 3,
      "outputs": [
        {
          "output_type": "execute_result",
          "data": {
            "text/plain": [
              "3600"
            ]
          },
          "metadata": {},
          "execution_count": 3
        }
      ]
    },
    {
      "cell_type": "markdown",
      "source": [
        "3. How many seconds do you think there are in a day? Make use of the variables seconds per hour\n",
        "and minutes per hour.\n"
      ],
      "metadata": {
        "id": "IKp1Zg_w8JrD"
      }
    },
    {
      "cell_type": "code",
      "source": [
        "\n",
        "one_day  = 24\n",
        "second_in_a_day = 24 * second_per_hour\n",
        "second_in_a_day\n",
        "     "
      ],
      "metadata": {
        "colab": {
          "base_uri": "https://localhost:8080/"
        },
        "id": "XRy_Bzh38TtX",
        "outputId": "86d0a9a5-6caa-4519-ad77-c424f0afa30b"
      },
      "execution_count": 5,
      "outputs": [
        {
          "output_type": "execute_result",
          "data": {
            "text/plain": [
              "86400"
            ]
          },
          "metadata": {},
          "execution_count": 5
        }
      ]
    },
    {
      "cell_type": "markdown",
      "source": [
        "4. Calculate seconds per day again, but this time save the result in a variable called seconds_per_day"
      ],
      "metadata": {
        "id": "jXWt_Tsb8rNp"
      }
    },
    {
      "cell_type": "code",
      "source": [
        "\n",
        "seconds_per_day =  24 * second_per_hour\n",
        "seconds_per_day"
      ],
      "metadata": {
        "colab": {
          "base_uri": "https://localhost:8080/"
        },
        "id": "xPjA0XIG8sZQ",
        "outputId": "eb131709-9ab8-4ae6-b6b5-4a2e4bf91735"
      },
      "execution_count": 6,
      "outputs": [
        {
          "output_type": "execute_result",
          "data": {
            "text/plain": [
              "86400"
            ]
          },
          "metadata": {},
          "execution_count": 6
        }
      ]
    },
    {
      "cell_type": "markdown",
      "source": [
        "5. Divide seconds_per_day by seconds_per_hour. Use floating-point (/) division."
      ],
      "metadata": {
        "id": "baPtVFY687pG"
      }
    },
    {
      "cell_type": "code",
      "source": [
        "seconds_per_day/second_per_hour"
      ],
      "metadata": {
        "colab": {
          "base_uri": "https://localhost:8080/"
        },
        "id": "5FmOB4jR89ow",
        "outputId": "1e1c6a6b-aa82-4b53-a8b9-8087088190c4"
      },
      "execution_count": 7,
      "outputs": [
        {
          "output_type": "execute_result",
          "data": {
            "text/plain": [
              "24.0"
            ]
          },
          "metadata": {},
          "execution_count": 7
        }
      ]
    },
    {
      "cell_type": "markdown",
      "source": [
        "6. Divide seconds_per_day by seconds_per_hour, using integer (//) division. Did this number agree\n",
        "with the floating-point value from the previous question, aside from the final .0?"
      ],
      "metadata": {
        "id": "JMTY2V3L9JMj"
      }
    },
    {
      "cell_type": "code",
      "source": [
        "# YES this number agrees\n",
        "seconds_per_day // second_per_hour\n"
      ],
      "metadata": {
        "colab": {
          "base_uri": "https://localhost:8080/"
        },
        "id": "53MOgg7C9Iw9",
        "outputId": "7a78b7c7-095d-405f-cd02-d73178908ac9"
      },
      "execution_count": 8,
      "outputs": [
        {
          "output_type": "execute_result",
          "data": {
            "text/plain": [
              "24"
            ]
          },
          "metadata": {},
          "execution_count": 8
        }
      ]
    },
    {
      "cell_type": "markdown",
      "source": [
        "7. Write a generator, genPrimes, that returns the sequence of prime numbers on successive calls to\n",
        "its next() method: 2, 3, 5, 7, 11, ..."
      ],
      "metadata": {
        "id": "XX5Fi65D9anV"
      }
    },
    {
      "cell_type": "code",
      "source": [
        "\n",
        "def genPrimes():\n",
        "    n = 2\n",
        "    primes = []\n",
        "    while True:\n",
        "        for p in primes:\n",
        "            if n % p == 0:\n",
        "                break\n",
        "        else:\n",
        "            primes.append(n)\n",
        "            yield n\n",
        "        n += 1"
      ],
      "metadata": {
        "id": "8kn87ZXT9jhL"
      },
      "execution_count": 9,
      "outputs": []
    }
  ]
}