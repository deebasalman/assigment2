{
  "nbformat": 4,
  "nbformat_minor": 0,
  "metadata": {
    "colab": {
      "provenance": []
    },
    "kernelspec": {
      "name": "python3",
      "display_name": "Python 3"
    },
    "language_info": {
      "name": "python"
    }
  },
  "cells": [
    {
      "cell_type": "markdown",
      "source": [
        "1. In what modes should the PdfFileReader() and PdfFileWriter() File objects will be opened?"
      ],
      "metadata": {
        "id": "W0ErrWd4XKFx"
      }
    },
    {
      "cell_type": "markdown",
      "source": [
        "\n",
        "These files will be opened in binary mode., read binary (rb) for PdfFileREader() and write binary (wb) PdfFileWriter()"
      ],
      "metadata": {
        "id": "AYKHXWqMXMjT"
      }
    },
    {
      "cell_type": "markdown",
      "source": [
        "2. From a PdfFileReader object, how do you get a Page object for page 5?"
      ],
      "metadata": {
        "id": "Fdr6RsqUXUZ6"
      }
    },
    {
      "cell_type": "code",
      "execution_count": 3,
      "metadata": {
        "colab": {
          "base_uri": "https://localhost:8080/"
        },
        "id": "i4AUJJYvXAWb",
        "outputId": "a4561cb4-50be-4570-bc78-88d514fe0c3d"
      },
      "outputs": [
        {
          "output_type": "stream",
          "name": "stdout",
          "text": [
            "Looking in indexes: https://pypi.org/simple, https://us-python.pkg.dev/colab-wheels/public/simple/\n",
            "Requirement already satisfied: PyPDF2 in /usr/local/lib/python3.10/dist-packages (3.0.1)\n"
          ]
        }
      ],
      "source": [
        "!pip install PyPDF2"
      ]
    },
    {
      "cell_type": "markdown",
      "source": [
        "Ans. Calling getPage(4) will return a Page object for page 5 since page 0 is the first page"
      ],
      "metadata": {
        "id": "W39kXwAqYJza"
      }
    },
    {
      "cell_type": "code",
      "source": [
        "\n",
        "import PyPDF2 as pdf\n",
        "pdfFileObj = open(\"cardealer.pdf\",'rb')\n",
        "pdfReader = pdf.PdfFileReader(pdfFileObj)\n",
        "pageObj = pdfReader.getPage(4)\n",
        "pageObj.extractText()\n",
        "     "
      ],
      "metadata": {
        "id": "ZyJm0GgKYwRz"
      },
      "execution_count": null,
      "outputs": []
    },
    {
      "cell_type": "markdown",
      "source": [
        "Q. What PdfFileReader variable stores the number of pages in the PDF document?"
      ],
      "metadata": {
        "id": "q7llH_exY0iP"
      }
    },
    {
      "cell_type": "code",
      "source": [
        "\n",
        "import PyPDF2 as pdf\n",
        "pdfFileObj = open(\"cardealer.pdf\",'rb')\n",
        "pdfReader = pdf.PdfFileReader(pdfFileObj)\n",
        "pdfReader.numPages"
      ],
      "metadata": {
        "id": "HFciTXB5Y-JK"
      },
      "execution_count": null,
      "outputs": []
    },
    {
      "cell_type": "markdown",
      "source": [
        "4. If a PdfFileReader object’s PDF is encrypted with the password swordfish, what must you do\n",
        "before you can obtain Page objects from it?"
      ],
      "metadata": {
        "id": "Z4eKoR_LZb_s"
      }
    },
    {
      "cell_type": "markdown",
      "source": [
        "Ans. Before we obtain the page object, the pdf has to be decrypted by calling .decrypt('swordfish')"
      ],
      "metadata": {
        "id": "rx3o2o3jZ1ll"
      }
    },
    {
      "cell_type": "markdown",
      "source": [
        "5. What methods do you use to rotate a page?"
      ],
      "metadata": {
        "id": "PgjF0w-2Z6zO"
      }
    },
    {
      "cell_type": "markdown",
      "source": [
        "pageObj.rotateClockwise(180)\n",
        "\n",
        "The rotateClockwise() and rotateCounterClockwise() methods. The degrees to rotate is passed as an integer argument"
      ],
      "metadata": {
        "id": "HQZ-ppCMaIR6"
      }
    },
    {
      "cell_type": "markdown",
      "source": [
        "6. What is the difference between a Run object and a Paragraph object?"
      ],
      "metadata": {
        "id": "4syNi2cgaOUs"
      }
    },
    {
      "cell_type": "markdown",
      "source": [
        "\n",
        "Ans.\n",
        "\n",
        "Paragraph Object : A document contains multiple paragraphs. A paragraph begins on a new line and contains multiple\n",
        "runs. The Document object contains a list of Paragraph objects for the paragraphs in the document. (A new paragraph begins whenever the user presses ENTER or RETURN while typing in a Word document.)\n",
        "\n",
        "Run Objects : Runs are contiguous groups of characters within a paragraph with the same style"
      ],
      "metadata": {
        "id": "qO8zNzR-a37P"
      }
    },
    {
      "cell_type": "markdown",
      "source": [
        "7. How do you obtain a list of Paragraph objects for a Document object that’s stored in a variable\n",
        "named doc?"
      ],
      "metadata": {
        "id": "hhzOTWVJa-ww"
      }
    },
    {
      "cell_type": "code",
      "source": [
        "import docx\n",
        "doc = docx.Document('abc.docx')\n",
        "doc.paragraphs"
      ],
      "metadata": {
        "id": "d823iHE2a-Xo"
      },
      "execution_count": null,
      "outputs": []
    },
    {
      "cell_type": "markdown",
      "source": [
        "8. What type of object has bold, underline, italic, strike, and outline variables?"
      ],
      "metadata": {
        "id": "h9hJZet1bipH"
      }
    },
    {
      "cell_type": "markdown",
      "source": [
        "Ans. A Run object has bold, underline,italic,strike and outline variables"
      ],
      "metadata": {
        "id": "9l4YOw5jbrlA"
      }
    },
    {
      "cell_type": "markdown",
      "source": [
        "9. What is the difference between False, True, and None for the bold variable?"
      ],
      "metadata": {
        "id": "88xC60k3bs6q"
      }
    },
    {
      "cell_type": "markdown",
      "source": [
        "Ans.\n",
        "\n",
        "Runs can be further styled using text attributes. Each attribute can be set to \n",
        "\n",
        "one of three values:\n",
        "True (the attribute is always enabled, no matter what other styles are applied to the run),\n",
        "False (the attribute is always disabled),\n",
        "None (defaults to whatever the run’s style is set to)\n",
        "\n",
        "True always makes the Run object bolded and False makes it always not bolded, no matter what the style’s bold setting is. None will make the Run object just use the style’s bold setting"
      ],
      "metadata": {
        "id": "ep04Un7Fb8QL"
      }
    },
    {
      "cell_type": "markdown",
      "source": [
        "10. How do you create a Document object for a new Word document?"
      ],
      "metadata": {
        "id": "085dnNbtcIDQ"
      }
    },
    {
      "cell_type": "markdown",
      "source": [
        "Ans. By Calling the docx.Document() function."
      ],
      "metadata": {
        "id": "6xWHt87ZcMeg"
      }
    },
    {
      "cell_type": "markdown",
      "source": [
        "11. How do you add a paragraph with the text &#39;Hello, there!&#39; to a Document object stored in a\n",
        "variable named doc?"
      ],
      "metadata": {
        "id": "DM3tnaRgciSW"
      }
    },
    {
      "cell_type": "code",
      "source": [
        "\n",
        "import docx\n",
        "doc = docx.Document()\n",
        "\n",
        "doc.add_paragraph('Hello there!')\n",
        "doc.save('hellothere.docx')\n",
        "     "
      ],
      "metadata": {
        "id": "SZiIr9AkbrFP"
      },
      "execution_count": null,
      "outputs": []
    },
    {
      "cell_type": "markdown",
      "source": [
        "12. What integers represent the levels of headings available in Word documents?"
      ],
      "metadata": {
        "id": "Hg9d_JixcyQ4"
      }
    },
    {
      "cell_type": "markdown",
      "source": [
        "\n",
        "\n",
        "*   integer from 0 to 4\n",
        "  \n",
        "    The arguments to add_heading() are a string of the heading text and an integer from 0 to 4. The integer 0 makes the heading the Title style, which is used for the top of the document. Integers 1 to 4 are for various heading levels, with 1 being the main heading and 4 the lowest subheading\n",
        "\n"
      ],
      "metadata": {
        "id": "gye6AMdJdA9H"
      }
    },
    {
      "cell_type": "code",
      "source": [],
      "metadata": {
        "id": "KPeVePD5a6v0"
      },
      "execution_count": null,
      "outputs": []
    },
    {
      "cell_type": "code",
      "source": [],
      "metadata": {
        "id": "CN7IQgCXZ6F8"
      },
      "execution_count": null,
      "outputs": []
    },
    {
      "cell_type": "code",
      "source": [],
      "metadata": {
        "id": "N3UEX3YjZ1Ar"
      },
      "execution_count": null,
      "outputs": []
    }
  ]
}