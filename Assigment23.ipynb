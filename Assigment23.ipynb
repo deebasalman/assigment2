{
  "nbformat": 4,
  "nbformat_minor": 0,
  "metadata": {
    "colab": {
      "provenance": []
    },
    "kernelspec": {
      "name": "python3",
      "display_name": "Python 3"
    },
    "language_info": {
      "name": "python"
    }
  },
  "cells": [
    {
      "cell_type": "markdown",
      "source": [
        "Q. What is the result of the code, and why?\n",
        "\n",
        ">>> def func(a, b=6, c=8): print(a, b, c) >>> func(1, 2)"
      ],
      "metadata": {
        "id": "6NJeZJfkfVQ0"
      }
    },
    {
      "cell_type": "markdown",
      "source": [
        "Ans. This funtion is taking a positional argument and 2 keyward argument. When function call m=is made, parameter passed are a=1,b=2. When the function is executed , parameter c=8 will be taken by default as its a keyword argument.\n",
        " solution is = 1,2,8\n",
        "     "
      ],
      "metadata": {
        "id": "2TtQBx9cfd6A"
      }
    },
    {
      "cell_type": "code",
      "execution_count": 1,
      "metadata": {
        "colab": {
          "base_uri": "https://localhost:8080/"
        },
        "id": "1ReHksBRfQID",
        "outputId": "be6b443e-9433-4609-f04d-a53ea3796244"
      },
      "outputs": [
        {
          "output_type": "stream",
          "name": "stdout",
          "text": [
            "1 2 8\n"
          ]
        }
      ],
      "source": [
        "def func(a, b=6, c=8):\n",
        "    print(a, b, c)\n",
        "func(1, 2)"
      ]
    },
    {
      "cell_type": "markdown",
      "source": [
        "Q. What is the result of this code, and why?\n",
        "\n",
        ">>> def func(a, b, c=5): print(a, b, c) >>> func(1, c=3, b=2)"
      ],
      "metadata": {
        "id": "F0K_fm5of8uf"
      }
    },
    {
      "cell_type": "markdown",
      "source": [
        "Ans. When we make function call, order will be positional argument and then keywords arguments. we can pass the keyword arguments in any order we want.\n",
        "Solution is 1,2,3"
      ],
      "metadata": {
        "id": "BdnX6CkogDqQ"
      }
    },
    {
      "cell_type": "code",
      "source": [
        "def func(a, b, c=5):\n",
        "    print(a, b, c)\n",
        "func(1, c=3, b=2)"
      ],
      "metadata": {
        "colab": {
          "base_uri": "https://localhost:8080/"
        },
        "id": "Oce4pvxggAQn",
        "outputId": "1deb6958-3aa7-45b6-f8e9-7a307154438c"
      },
      "execution_count": 2,
      "outputs": [
        {
          "output_type": "stream",
          "name": "stdout",
          "text": [
            "1 2 3\n"
          ]
        }
      ]
    },
    {
      "cell_type": "markdown",
      "source": [
        "Q. How about this code: what is its result, and why? >>> def func(a, *pargs): print(a, pargs) >>> func(1, 2, 3)"
      ],
      "metadata": {
        "id": "IdW913tMgcpm"
      }
    },
    {
      "cell_type": "markdown",
      "source": [
        " Ans.The return type of *args parameter is tuple, where as **kargs will be dictionary\n",
        "solution is = 1,(2,3)"
      ],
      "metadata": {
        "id": "CktsN7hpgn0e"
      }
    },
    {
      "cell_type": "code",
      "source": [
        "def func(a, *pargs):\n",
        "    print(a, pargs)\n",
        "func(1, 2, 3)"
      ],
      "metadata": {
        "colab": {
          "base_uri": "https://localhost:8080/"
        },
        "id": "nvgTqMJJgnAt",
        "outputId": "3eb16296-cc2f-4bb2-d9bb-9c3ea444788a"
      },
      "execution_count": 3,
      "outputs": [
        {
          "output_type": "stream",
          "name": "stdout",
          "text": [
            "1 (2, 3)\n"
          ]
        }
      ]
    },
    {
      "cell_type": "markdown",
      "source": [
        "Q. What does this code print, and why?\n",
        "\n",
        ">>> def func(a, **kargs): print(a, kargs) >>> func(a=1, c=3, b=2)"
      ],
      "metadata": {
        "id": "hSIVYV4DhDCm"
      }
    },
    {
      "cell_type": "markdown",
      "source": [
        "Ans. The return type of  **kargs is  dictionary\n",
        "solution is = 1,{'c':3,'b':2}\n",
        "     "
      ],
      "metadata": {
        "id": "b20qBH4yhZU1"
      }
    },
    {
      "cell_type": "code",
      "source": [
        "def func(a, **kargs):\n",
        "    print(a, kargs)\n",
        "func(a=1, c=3, b=2)"
      ],
      "metadata": {
        "colab": {
          "base_uri": "https://localhost:8080/"
        },
        "id": "t3gSdncAhY6_",
        "outputId": "032cf9cb-b3fe-4716-a5d0-1a9bb6e01544"
      },
      "execution_count": 4,
      "outputs": [
        {
          "output_type": "stream",
          "name": "stdout",
          "text": [
            "1 {'c': 3, 'b': 2}\n"
          ]
        }
      ]
    },
    {
      "cell_type": "markdown",
      "source": [
        "Q. What gets printed by this, and explain?\n",
        "\n",
        ">>> def func(a, b, c=8, d=5): print(a, b, c, d) >>> func(1, *(5, 6))"
      ],
      "metadata": {
        "id": "_A9JFyiHh1S9"
      }
    },
    {
      "cell_type": "markdown",
      "source": [
        "'*' is the unpacking operator and are operators that unpack the values from iterable objects in Python. The single asterisk operator * can be used on any iterable that Python provides, while the double asterisk operator ** can only  be used on dictionaries. In the example the value *(5,6) will be unpacked and will be assigned to b and c and passed as arguments, d =5 will taken by defaults are keyword arguments.\n",
        "\n",
        " Solution 1,5,6,5"
      ],
      "metadata": {
        "id": "7hCgmt64h8Tk"
      }
    },
    {
      "cell_type": "code",
      "source": [
        "def func(a, b, c=8, d=5): \n",
        "    print(a, b, c, d)\n",
        "func(1, *(5, 6))"
      ],
      "metadata": {
        "colab": {
          "base_uri": "https://localhost:8080/"
        },
        "id": "eH40dnXRhJKf",
        "outputId": "3454dd1d-83ff-431b-eac5-15fbcad427d7"
      },
      "execution_count": 5,
      "outputs": [
        {
          "output_type": "stream",
          "name": "stdout",
          "text": [
            "1 5 6 5\n"
          ]
        }
      ]
    },
    {
      "cell_type": "markdown",
      "source": [
        "Q. what is the result of this, and explain?\n",
        "\n",
        ">>> def func(a, b, c): a = 2; b[0] = 'x'; c['a'] = 'y' >>> l=1; m=[1]; n={'a':0} >>> func(l, m, n)\n",
        "\n",
        ">>> l, m, n"
      ],
      "metadata": {
        "id": "tlybzsBQitWH"
      }
    },
    {
      "cell_type": "markdown",
      "source": [
        " Ans. Here in the code, the list and dict are passed as argument, and those are mutable. Here the list l and parameter b point to the same list in the memory location where as dict n and c point to the same memory location. Any updates to this list will update in the memory location\n",
        "\n",
        "l = 1 , integer values, immutable, m is list, mutable, n is dict, mutable.\n",
        "output will be = 1,['x'],{'a':'y'}"
      ],
      "metadata": {
        "id": "hy6VHUfWi2xW"
      }
    },
    {
      "cell_type": "code",
      "source": [
        "def func(a, b, c): \n",
        "    a = 2; b[0] = 'x'; c['a'] = 'y'\n",
        "    \n",
        "l=1; m=[1]; n={'a':0}\n",
        "func(l, m, n)\n",
        "\n",
        "l, m, n"
      ],
      "metadata": {
        "colab": {
          "base_uri": "https://localhost:8080/"
        },
        "id": "pKguajf1jD9l",
        "outputId": "f773ff67-88a7-4479-81c1-cc9b574fd5b1"
      },
      "execution_count": 6,
      "outputs": [
        {
          "output_type": "execute_result",
          "data": {
            "text/plain": [
              "(1, ['x'], {'a': 'y'})"
            ]
          },
          "metadata": {},
          "execution_count": 6
        }
      ]
    }
  ]
}