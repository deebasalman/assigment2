{
  "nbformat": 4,
  "nbformat_minor": 0,
  "metadata": {
    "colab": {
      "provenance": []
    },
    "kernelspec": {
      "name": "python3",
      "display_name": "Python 3"
    },
    "language_info": {
      "name": "python"
    }
  },
  "cells": [
    {
      "cell_type": "markdown",
      "source": [
        "1. What does an empty dictionary's code look like?"
      ],
      "metadata": {
        "id": "pNEtOIJr6wvA"
      }
    },
    {
      "cell_type": "markdown",
      "source": [
        "ANS-- {}"
      ],
      "metadata": {
        "id": "rll12iJz7CnK"
      }
    },
    {
      "cell_type": "markdown",
      "source": [
        "2. What is the value of a dictionary value with the key 'foo' and the value 42?"
      ],
      "metadata": {
        "id": "A6wflcRj7Fy4"
      }
    },
    {
      "cell_type": "code",
      "source": [
        "a={'foo':42}"
      ],
      "metadata": {
        "id": "CGMjsy2n615D"
      },
      "execution_count": 3,
      "outputs": []
    },
    {
      "cell_type": "code",
      "execution_count": 4,
      "metadata": {
        "colab": {
          "base_uri": "https://localhost:8080/"
        },
        "id": "AuLnlMWL4z_K",
        "outputId": "ba1d44ca-b199-4932-9cc9-cd6db8012ef8"
      },
      "outputs": [
        {
          "output_type": "execute_result",
          "data": {
            "text/plain": [
              "{'foo': 42}"
            ]
          },
          "metadata": {},
          "execution_count": 4
        }
      ],
      "source": [
        "a"
      ]
    },
    {
      "cell_type": "markdown",
      "source": [
        "3. What is the most significant distinction between a dictionary and a list?"
      ],
      "metadata": {
        "id": "rvNB9I11CZBv"
      }
    },
    {
      "cell_type": "markdown",
      "source": [
        "Ans-- Dictionay has a key-value pair while list contain only values"
      ],
      "metadata": {
        "id": "iYac0PjYCbUO"
      }
    },
    {
      "cell_type": "markdown",
      "source": [
        "4. What happens if you try to access spam['foo'] if spam is {'bar': 100}?"
      ],
      "metadata": {
        "id": "xlLtDt4oDJ8O"
      }
    },
    {
      "cell_type": "markdown",
      "source": [
        "Ans--We get kye error"
      ],
      "metadata": {
        "id": "feiJXV9pDuz2"
      }
    },
    {
      "cell_type": "markdown",
      "source": [
        "5. If a dictionary is stored in spam, what is the difference between the expressions 'cat' in spam and\n",
        "'cat' in spam.keys()?"
      ],
      "metadata": {
        "id": "rgZDVSv9D17N"
      }
    },
    {
      "cell_type": "markdown",
      "source": [
        "Ans-- Operator check whether 'cat' is store in a key or not."
      ],
      "metadata": {
        "id": "2GVFdu4PEhnL"
      }
    },
    {
      "cell_type": "markdown",
      "source": [
        "6. If a dictionary is stored in spam, what is the difference between the expressions 'cat' in spam and\n",
        "'cat' in spam.values()?"
      ],
      "metadata": {
        "id": "VrmwvY-xE9wr"
      }
    },
    {
      "cell_type": "markdown",
      "source": [
        "ANS-- Operator check whether 'cat' is store in a value or not."
      ],
      "metadata": {
        "id": "l6if7qBvFiB3"
      }
    },
    {
      "cell_type": "markdown",
      "source": [
        "7. What is a shortcut for the following code?\n",
        "if 'color' not in spam:\n",
        "spam['color'] = 'black'"
      ],
      "metadata": {
        "id": "Vy7tF4DjGk06"
      }
    },
    {
      "cell_type": "markdown",
      "source": [
        "Ans--spam.setdefault('color', 'black')"
      ],
      "metadata": {
        "id": "57gmh_iiG19G"
      }
    },
    {
      "cell_type": "markdown",
      "source": [
        "8.How do you \"pretty print\" dictionary values using which module and function?"
      ],
      "metadata": {
        "id": "nREwrLE6HUEX"
      }
    },
    {
      "cell_type": "markdown",
      "source": [
        "ANS--pretty print is use by importing the module pprint, its provide the function pprint.pprint()"
      ],
      "metadata": {
        "id": "Kdk0f9qxIv5O"
      }
    },
    {
      "cell_type": "code",
      "source": [],
      "metadata": {
        "id": "f_O30efUJaP4"
      },
      "execution_count": null,
      "outputs": []
    }
  ]
}