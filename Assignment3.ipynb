{
  "nbformat": 4,
  "nbformat_minor": 0,
  "metadata": {
    "colab": {
      "provenance": []
    },
    "kernelspec": {
      "name": "python3",
      "display_name": "Python 3"
    },
    "language_info": {
      "name": "python"
    }
  },
  "cells": [
    {
      "cell_type": "markdown",
      "source": [
        "1. Why are functions advantageous to have in your programs?"
      ],
      "metadata": {
        "id": "LVwglwsA8JoB"
      }
    },
    {
      "cell_type": "markdown",
      "source": [
        "ans--we use function to make a bundle of set of instruction so that we can us it again and again when we needed."
      ],
      "metadata": {
        "id": "L-ziUfDN8b_B"
      }
    },
    {
      "cell_type": "markdown",
      "source": [
        "2. When does the code in a function run: when its specified or when its called?"
      ],
      "metadata": {
        "id": "wtbFNFVz9WeY"
      }
    },
    {
      "cell_type": "markdown",
      "source": [
        "ans--when its called"
      ],
      "metadata": {
        "id": "uhU6ijwg9kOu"
      }
    },
    {
      "cell_type": "markdown",
      "source": [
        "3. What statement creates a function?"
      ],
      "metadata": {
        "id": "JptoIBNF9uTS"
      }
    },
    {
      "cell_type": "code",
      "source": [
        "def test():\n",
        "     return(1)"
      ],
      "metadata": {
        "id": "zIE4F8-K93Iz"
      },
      "execution_count": 11,
      "outputs": []
    },
    {
      "cell_type": "code",
      "source": [
        "test()"
      ],
      "metadata": {
        "id": "JJTX65QV8JNI"
      },
      "execution_count": 15,
      "outputs": []
    },
    {
      "cell_type": "markdown",
      "source": [
        "4. What is the difference between a function and a function call?"
      ],
      "metadata": {
        "id": "lrE_YF_s-jJI"
      }
    },
    {
      "cell_type": "code",
      "execution_count": null,
      "metadata": {
        "id": "atIKu_CZ7wlk"
      },
      "outputs": [],
      "source": [
        "when we write a set of instruction in one block is a function.\n",
        "when we call function by its name its is function call."
      ]
    },
    {
      "cell_type": "markdown",
      "source": [
        "5. How many global scopes are there in a Python program? How many local scopes?"
      ],
      "metadata": {
        "id": "vYpotMLO_bY9"
      }
    },
    {
      "cell_type": "markdown",
      "source": [
        "ans--There are only one global scopes per program execution."
      ],
      "metadata": {
        "id": "Aipw7jg8_yv0"
      }
    },
    {
      "cell_type": "markdown",
      "source": [
        "6. What happens to variables in a local scope when the function call returns?"
      ],
      "metadata": {
        "id": "TseMZCUNC0RO"
      }
    },
    {
      "cell_type": "markdown",
      "source": [
        "ans--when the function call return the value local variable is distroyed."
      ],
      "metadata": {
        "id": "n7WptETUC9eP"
      }
    },
    {
      "cell_type": "markdown",
      "source": [
        "7. What is the concept of a return value? Is it possible to have a return value in an expression?"
      ],
      "metadata": {
        "id": "0O-L_au5FYmE"
      }
    },
    {
      "cell_type": "markdown",
      "source": [
        "Ans--When we call a function then it return some value.yes it is possible to have a value in an expression."
      ],
      "metadata": {
        "id": "zjcmT0-6FieR"
      }
    },
    {
      "cell_type": "markdown",
      "source": [
        "8. If a function does not have a return statement, what is the return value of a call to that function?"
      ],
      "metadata": {
        "id": "D1RpNj4dG1yx"
      }
    },
    {
      "cell_type": "markdown",
      "source": [
        "Ans-- If a function does not have a return statement then its return no value when its call."
      ],
      "metadata": {
        "id": "DhO912EpHp2k"
      }
    },
    {
      "cell_type": "markdown",
      "source": [
        "9. How do you make a function variable refer to the global variable?"
      ],
      "metadata": {
        "id": "cWnLFzVtH-7v"
      }
    },
    {
      "cell_type": "markdown",
      "source": [
        "Ans-- BY using a global keyword we make a function variable as aglobal variable."
      ],
      "metadata": {
        "id": "h28XRlqaIIih"
      }
    },
    {
      "cell_type": "markdown",
      "source": [
        "10. What is the data type of None?"
      ],
      "metadata": {
        "id": "IF_QBlLBIv4E"
      }
    },
    {
      "cell_type": "markdown",
      "source": [
        "Ans-- The data tye of None is None type."
      ],
      "metadata": {
        "id": "b7NlgKvcG88_"
      }
    },
    {
      "cell_type": "markdown",
      "source": [
        "11. What does the sentence import areallyourpetsnamederic do?"
      ],
      "metadata": {
        "id": "sG6mkxxRLjAl"
      }
    },
    {
      "cell_type": "markdown",
      "source": [
        "Ans -- Its import the module areallyourpetsnamederic."
      ],
      "metadata": {
        "id": "_-GEvL2cMQl-"
      }
    },
    {
      "cell_type": "markdown",
      "source": [
        "12. If you had a bacon() feature in a spam module, what would you call it after importing spam?"
      ],
      "metadata": {
        "id": "MMFJNE3PMe4t"
      }
    },
    {
      "cell_type": "markdown",
      "source": [
        "ANS--- spam.bacon()"
      ],
      "metadata": {
        "id": "GmVfOZgnMvSs"
      }
    },
    {
      "cell_type": "markdown",
      "source": [
        "13. What can you do to save a programme from crashing if it encounters an error?"
      ],
      "metadata": {
        "id": "7uXNx17dNDJK"
      }
    },
    {
      "cell_type": "markdown",
      "source": [
        "ANS--I can use error handling  to notified me from error"
      ],
      "metadata": {
        "id": "Xe4iIa7pNGNX"
      }
    },
    {
      "cell_type": "markdown",
      "source": [
        "14. What is the purpose of the try clause? What is the purpose of the except clause?"
      ],
      "metadata": {
        "id": "JPWQaTjpNg6z"
      }
    },
    {
      "cell_type": "markdown",
      "source": [
        "Ans-- IN try block we check our program from error.if error occure the we use except clause."
      ],
      "metadata": {
        "id": "-VHDoKTMNmbb"
      }
    },
    {
      "cell_type": "code",
      "source": [],
      "metadata": {
        "id": "RST20yakOYhM"
      },
      "execution_count": null,
      "outputs": []
    },
    {
      "cell_type": "code",
      "source": [],
      "metadata": {
        "id": "FfpzhPd5OZ3Y"
      },
      "execution_count": null,
      "outputs": []
    },
    {
      "cell_type": "code",
      "source": [
        "x= None"
      ],
      "metadata": {
        "id": "8kVFQEPcLGaf"
      },
      "execution_count": 17,
      "outputs": []
    },
    {
      "cell_type": "code",
      "source": [
        "type(x)"
      ],
      "metadata": {
        "id": "UlbA5_Af_VZ1",
        "colab": {
          "base_uri": "https://localhost:8080/"
        },
        "outputId": "23e444f8-dee5-4c50-a351-4c0c433d0ce5"
      },
      "execution_count": 18,
      "outputs": [
        {
          "output_type": "execute_result",
          "data": {
            "text/plain": [
              "NoneType"
            ]
          },
          "metadata": {},
          "execution_count": 18
        }
      ]
    }
  ]
}