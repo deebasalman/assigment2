{
  "nbformat": 4,
  "nbformat_minor": 0,
  "metadata": {
    "colab": {
      "provenance": []
    },
    "kernelspec": {
      "name": "python3",
      "display_name": "Python 3"
    },
    "language_info": {
      "name": "python"
    }
  },
  "cells": [
    {
      "cell_type": "markdown",
      "source": [
        "1. Make a class called Thing with no contents and print it. Then, create an object called example\n",
        "from this class and also print it. Are the printed values the same or different?"
      ],
      "metadata": {
        "id": "COEWCItzVJ9v"
      }
    },
    {
      "cell_type": "code",
      "execution_count": 1,
      "metadata": {
        "id": "zu9Cq-vwVIMf"
      },
      "outputs": [],
      "source": [
        "class Thing:\n",
        "    pass"
      ]
    },
    {
      "cell_type": "code",
      "source": [
        "\n",
        "print(Thing)"
      ],
      "metadata": {
        "colab": {
          "base_uri": "https://localhost:8080/"
        },
        "id": "XqyNR2iuVdj6",
        "outputId": "fa3248d1-d157-48ea-e825-ffeef81cd89d"
      },
      "execution_count": 2,
      "outputs": [
        {
          "output_type": "stream",
          "name": "stdout",
          "text": [
            "<class '__main__.Thing'>\n"
          ]
        }
      ]
    },
    {
      "cell_type": "code",
      "source": [
        "example = Thing()\n",
        "print(example)"
      ],
      "metadata": {
        "colab": {
          "base_uri": "https://localhost:8080/"
        },
        "id": "-v4BWw2MVsHI",
        "outputId": "e90ca65b-eea9-4581-8445-15fe47311c0d"
      },
      "execution_count": 3,
      "outputs": [
        {
          "output_type": "stream",
          "name": "stdout",
          "text": [
            "<__main__.Thing object at 0x7ff403d061d0>\n"
          ]
        }
      ]
    },
    {
      "cell_type": "markdown",
      "source": [
        "2. Create a new class called Thing2 and add the value &#39;abc&#39; to the letters class attribute. Letters\n",
        "should be printed."
      ],
      "metadata": {
        "id": "FeAjt_QkVv7V"
      }
    },
    {
      "cell_type": "code",
      "source": [
        "\n",
        "class Thing2:\n",
        "    letters = 'abc'\n",
        "Thing2.letters"
      ],
      "metadata": {
        "colab": {
          "base_uri": "https://localhost:8080/",
          "height": 35
        },
        "id": "rrvMIUh5VzVA",
        "outputId": "aae2b61d-16e1-4514-b4d1-379919560e85"
      },
      "execution_count": 4,
      "outputs": [
        {
          "output_type": "execute_result",
          "data": {
            "text/plain": [
              "'abc'"
            ],
            "application/vnd.google.colaboratory.intrinsic+json": {
              "type": "string"
            }
          },
          "metadata": {},
          "execution_count": 4
        }
      ]
    },
    {
      "cell_type": "markdown",
      "source": [
        "Q. Make yet another class called, of course, Thing3. This time, assign the value 'xyz' to an instance (object) attribute called letters. Print letters. Do you need to make an object from the class to do this?"
      ],
      "metadata": {
        "id": "AVPFmDSnV9Vf"
      }
    },
    {
      "cell_type": "code",
      "source": [
        "\n",
        "class Thing3:\n",
        "    def __init__(self,letter):\n",
        "        self.letter = letter\n",
        "    def letters(self):\n",
        "        print(self.letter)\n",
        "Thing3('xyz').letters()"
      ],
      "metadata": {
        "colab": {
          "base_uri": "https://localhost:8080/"
        },
        "id": "KRiXYSZLV-f-",
        "outputId": "331fc7a4-b900-4343-b57a-57f9bf5adcd4"
      },
      "execution_count": 5,
      "outputs": [
        {
          "output_type": "stream",
          "name": "stdout",
          "text": [
            "xyz\n"
          ]
        }
      ]
    },
    {
      "cell_type": "markdown",
      "source": [
        "Q. Create an Element class with the instance attributes name, symbol, and number. Create a class object with the values 'Hydrogen','H' and 1."
      ],
      "metadata": {
        "id": "yfO_XI-tWOu0"
      }
    },
    {
      "cell_type": "code",
      "source": [
        "class Element:\n",
        "    def __init__(self,name,symbol,number):\n",
        "        self.name = name\n",
        "        self.symbol = symbol\n",
        "        self.number = number\n",
        "    def printThem(self):\n",
        "        print(self.name,self.symbol,self.number)"
      ],
      "metadata": {
        "id": "HdTYmpxBWQOP"
      },
      "execution_count": 6,
      "outputs": []
    },
    {
      "cell_type": "code",
      "source": [
        "\n",
        "obj = Element('Hydrogen','H',1)\n",
        "obj.name"
      ],
      "metadata": {
        "colab": {
          "base_uri": "https://localhost:8080/",
          "height": 35
        },
        "id": "mVBrInbsWYzn",
        "outputId": "558d1db8-c77a-4c3e-e917-48327ea4ff1c"
      },
      "execution_count": 7,
      "outputs": [
        {
          "output_type": "execute_result",
          "data": {
            "text/plain": [
              "'Hydrogen'"
            ],
            "application/vnd.google.colaboratory.intrinsic+json": {
              "type": "string"
            }
          },
          "metadata": {},
          "execution_count": 7
        }
      ]
    },
    {
      "cell_type": "markdown",
      "source": [
        "Q. Make a dictionary with these keys and values: 'name' 'Hydrogen' 'symbol' 'H', 'number' 1. Then,create an object called hydrogen from class Element using this dictionary."
      ],
      "metadata": {
        "id": "q-ucdRleWYJP"
      }
    },
    {
      "cell_type": "code",
      "source": [
        "dict = {'name':'Hydrogen', 'symbol':'H','number': 1}\n",
        "hydrogen = Element(**dict) # using dictionary unpacking **\n",
        "hydrogen.symbol"
      ],
      "metadata": {
        "colab": {
          "base_uri": "https://localhost:8080/",
          "height": 35
        },
        "id": "Q1jtDZtAWi2I",
        "outputId": "12546483-50c9-489a-aa35-7a1a82cea270"
      },
      "execution_count": 8,
      "outputs": [
        {
          "output_type": "execute_result",
          "data": {
            "text/plain": [
              "'H'"
            ],
            "application/vnd.google.colaboratory.intrinsic+json": {
              "type": "string"
            }
          },
          "metadata": {},
          "execution_count": 8
        }
      ]
    },
    {
      "cell_type": "markdown",
      "source": [
        "Q. For the Element class, define a method called dump() that prints the values of the object’s attributes (name, symbol, and number). Create the hydrogen object from this new definition and use dump() to print its attributes."
      ],
      "metadata": {
        "id": "71z0MYIQW1-6"
      }
    },
    {
      "cell_type": "code",
      "source": [
        "\n",
        "class Element:\n",
        "    def __init__(self,name,symbol,number):\n",
        "        self.name = name\n",
        "        self.symbol = symbol\n",
        "        self.number = number\n",
        "    def dump(self):\n",
        "        print(self.name,self.symbol,self.number)"
      ],
      "metadata": {
        "id": "CzPSb644W3gl"
      },
      "execution_count": 9,
      "outputs": []
    },
    {
      "cell_type": "code",
      "source": [
        "hydrogen = Element('Hydrogen','H',1)\n",
        "hydrogen.dump()"
      ],
      "metadata": {
        "colab": {
          "base_uri": "https://localhost:8080/"
        },
        "id": "ZaTZnBdyW_HE",
        "outputId": "92627927-2797-46dd-f2d4-b31e5772c3d4"
      },
      "execution_count": 10,
      "outputs": [
        {
          "output_type": "stream",
          "name": "stdout",
          "text": [
            "Hydrogen H 1\n"
          ]
        }
      ]
    },
    {
      "cell_type": "markdown",
      "source": [
        "Q. Call print(hydrogen). In the definition of Element, change the name of method dump to str, create a new hydrogen object, and call print(hydrogen) again"
      ],
      "metadata": {
        "id": "Pdvywf1kXFTm"
      }
    },
    {
      "cell_type": "code",
      "source": [
        "class Element:\n",
        "    def __init__(self,name,symbol,number):\n",
        "        self.name = name\n",
        "        self.symbol = symbol\n",
        "        self.number = number\n",
        "    def __str__(self):\n",
        "        return ('name=%s, symbol=%s, number=%s'% (self.name, self.symbol, self.number) )"
      ],
      "metadata": {
        "id": "Zhtb_USEXGXU"
      },
      "execution_count": 11,
      "outputs": []
    },
    {
      "cell_type": "code",
      "source": [
        "hydrogen = Element('Hydrogen','H',1)\n",
        "print(hydrogen)"
      ],
      "metadata": {
        "colab": {
          "base_uri": "https://localhost:8080/"
        },
        "id": "WyGZDmUOXO7t",
        "outputId": "50735876-4705-4404-f201-8524fb6a14fc"
      },
      "execution_count": 12,
      "outputs": [
        {
          "output_type": "stream",
          "name": "stdout",
          "text": [
            "name=Hydrogen, symbol=H, number=1\n"
          ]
        }
      ]
    },
    {
      "cell_type": "markdown",
      "source": [
        "Q. Modify Element to make the attributes name, symbol, and number private. Define a getter property for each to return its value"
      ],
      "metadata": {
        "id": "YA7s70BLXeA1"
      }
    },
    {
      "cell_type": "code",
      "source": [
        "class Element(): \n",
        "    def __init__(self ,name,symbol,number):\n",
        "        self.__name = name\n",
        "        self.__symbol = symbol\n",
        "        self.__number = number\n",
        "    @property\n",
        "    def name(self):\n",
        "        return (self.__name)\n",
        "    @property\n",
        "    def symbol(self):\n",
        "        return (self.__symbol)\n",
        "    @property\n",
        "    def number(self):\n",
        "        return (self.__number)"
      ],
      "metadata": {
        "id": "ZYCZGa8CXfJd"
      },
      "execution_count": 15,
      "outputs": []
    },
    {
      "cell_type": "code",
      "source": [
        "\n",
        "hydrogen = Element('Hydrogen','H',1)\n",
        "hydrogen.name"
      ],
      "metadata": {
        "colab": {
          "base_uri": "https://localhost:8080/",
          "height": 35
        },
        "id": "GT5AJnAiXwy_",
        "outputId": "4d07056d-179b-4a41-ac5f-c5f88912e233"
      },
      "execution_count": 16,
      "outputs": [
        {
          "output_type": "execute_result",
          "data": {
            "text/plain": [
              "'Hydrogen'"
            ],
            "application/vnd.google.colaboratory.intrinsic+json": {
              "type": "string"
            }
          },
          "metadata": {},
          "execution_count": 16
        }
      ]
    },
    {
      "cell_type": "markdown",
      "source": [
        "Q. Define three classes: Bear, Rabbit, and Octothorpe. For each, define only one method: eats(). This should return 'berries' (Bear), 'clover' (Rabbit), or 'campers' (Octothorpe). Create one object from each and print what it eats"
      ],
      "metadata": {
        "id": "pG6oQLHqX-nj"
      }
    },
    {
      "cell_type": "code",
      "source": [
        "\n",
        "class Bear:\n",
        "    def eats():\n",
        "        print('berries')\n",
        "\n",
        "class Rabbit:\n",
        "    def eats():\n",
        "        print('clover')\n",
        "\n",
        "class Octothorpe:\n",
        "    def eats():\n",
        "        print('campers')"
      ],
      "metadata": {
        "id": "SZPOJBhRYAVL"
      },
      "execution_count": 17,
      "outputs": []
    },
    {
      "cell_type": "code",
      "source": [
        "Bear.eats()"
      ],
      "metadata": {
        "colab": {
          "base_uri": "https://localhost:8080/"
        },
        "id": "RVQ58fqUYHSb",
        "outputId": "bfbb61d8-0c74-4b4b-f2d4-d6e478740327"
      },
      "execution_count": 18,
      "outputs": [
        {
          "output_type": "stream",
          "name": "stdout",
          "text": [
            "berries\n"
          ]
        }
      ]
    },
    {
      "cell_type": "code",
      "source": [
        "Rabbit.eats()"
      ],
      "metadata": {
        "colab": {
          "base_uri": "https://localhost:8080/"
        },
        "id": "dGz-kdOxYNZS",
        "outputId": "20df8f76-146a-4278-b324-ef987f6d2452"
      },
      "execution_count": 19,
      "outputs": [
        {
          "output_type": "stream",
          "name": "stdout",
          "text": [
            "clover\n"
          ]
        }
      ]
    },
    {
      "cell_type": "code",
      "source": [
        "Octothorpe.eats()"
      ],
      "metadata": {
        "colab": {
          "base_uri": "https://localhost:8080/"
        },
        "id": "YUNVyd3qYVbK",
        "outputId": "b3b0b709-99f1-4011-de1f-c67700aabbd6"
      },
      "execution_count": 20,
      "outputs": [
        {
          "output_type": "stream",
          "name": "stdout",
          "text": [
            "campers\n"
          ]
        }
      ]
    },
    {
      "cell_type": "markdown",
      "source": [
        "Q. Define these classes: Laser, Claw, and SmartPhone. Each has only one method: does(). This returns 'disintegrate' (Laser), 'crush' (Claw), or 'ring' (SmartPhone). Then, define the class Robot that has one instance (object) of each of these. Define a does() method for the Robot that prints what its component objects do."
      ],
      "metadata": {
        "id": "UmS_nC8mYevi"
      }
    },
    {
      "cell_type": "code",
      "source": [
        "class Laser:\n",
        "    def does(self):\n",
        "        return('disitegrate')\n",
        "class Claw:\n",
        "    def does(self):\n",
        "        return('crush')\n",
        "class SmartPhone:\n",
        "    def does(self):\n",
        "        return('ring')\n",
        "        \n",
        "class Robot:\n",
        "    def __init__(self):\n",
        "        self.laser = Laser()\n",
        "        self.claw = Claw()\n",
        "        self.smartphone = SmartPhone()\n",
        "    def does(self):\n",
        "        return ('Laser is %s, Claw is %s, SmartPhone is %s' % (self.laser.does(),self.claw.does(),self.smartphone.does()))\n",
        "     \n"
      ],
      "metadata": {
        "id": "uiMT4YQTYgcn"
      },
      "execution_count": 21,
      "outputs": []
    },
    {
      "cell_type": "code",
      "source": [
        "\n",
        "robo = Robot()"
      ],
      "metadata": {
        "id": "ebgCpBBAYx4y"
      },
      "execution_count": 22,
      "outputs": []
    },
    {
      "cell_type": "code",
      "source": [
        "robo.does()"
      ],
      "metadata": {
        "colab": {
          "base_uri": "https://localhost:8080/",
          "height": 35
        },
        "id": "GH6bnCx5Y65a",
        "outputId": "479c34d0-b5eb-4253-bf1d-11ee4a0504ba"
      },
      "execution_count": 23,
      "outputs": [
        {
          "output_type": "execute_result",
          "data": {
            "text/plain": [
              "'Laser is disitegrate, Claw is crush, SmartPhone is ring'"
            ],
            "application/vnd.google.colaboratory.intrinsic+json": {
              "type": "string"
            }
          },
          "metadata": {},
          "execution_count": 23
        }
      ]
    }
  ]
}