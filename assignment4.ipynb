{
  "nbformat": 4,
  "nbformat_minor": 0,
  "metadata": {
    "colab": {
      "provenance": []
    },
    "kernelspec": {
      "name": "python3",
      "display_name": "Python 3"
    },
    "language_info": {
      "name": "python"
    }
  },
  "cells": [
    {
      "cell_type": "markdown",
      "source": [
        "1. What exactly is []?"
      ],
      "metadata": {
        "id": "eEWYBpTje3Df"
      }
    },
    {
      "cell_type": "markdown",
      "source": [
        "ANS--[] is an empty list."
      ],
      "metadata": {
        "id": "MDMHw7Tse6na"
      }
    },
    {
      "cell_type": "markdown",
      "source": [
        "2. In a list of values stored in a variable called spam, how would you assign the value &#39;hello&#39; as the\n",
        "third value? (Assume [2, 4, 6, 8, 10] are in spam.)"
      ],
      "metadata": {
        "id": "RuK_qtYnfKhf"
      }
    },
    {
      "cell_type": "code",
      "source": [
        "spam=[2,4,6,8,10]\n",
        "spam[2]='hello'\n",
        "print(spam)"
      ],
      "metadata": {
        "colab": {
          "base_uri": "https://localhost:8080/"
        },
        "id": "uF0rg6Z9fZ0w",
        "outputId": "21efd295-59f8-4d7d-e09d-1d59cf417939"
      },
      "execution_count": 2,
      "outputs": [
        {
          "output_type": "stream",
          "name": "stdout",
          "text": [
            "[2, 4, 'hello', 8, 10]\n"
          ]
        }
      ]
    },
    {
      "cell_type": "markdown",
      "source": [
        "Let&#39;s pretend the spam includes the list ['a','b','c','d'] for the next three queries."
      ],
      "metadata": {
        "id": "t-rLlNztgTiL"
      }
    },
    {
      "cell_type": "code",
      "source": [
        "spam1=['a','b','c','d']"
      ],
      "metadata": {
        "id": "bmeKGB_ngRBz"
      },
      "execution_count": 3,
      "outputs": []
    },
    {
      "cell_type": "markdown",
      "source": [
        "3. What is the value of spam[int(int('3' * 2) / 11)]?"
      ],
      "metadata": {
        "id": "o5uyT2WpfNBh"
      }
    },
    {
      "cell_type": "code",
      "source": [
        "spam1[int(int('3'*2)/11)]"
      ],
      "metadata": {
        "colab": {
          "base_uri": "https://localhost:8080/",
          "height": 35
        },
        "id": "mnuc-OXyhfrF",
        "outputId": "336bba35-a50c-4454-9684-7ef9f6f1c82c"
      },
      "execution_count": 7,
      "outputs": [
        {
          "output_type": "execute_result",
          "data": {
            "text/plain": [
              "'d'"
            ],
            "application/vnd.google.colaboratory.intrinsic+json": {
              "type": "string"
            }
          },
          "metadata": {},
          "execution_count": 7
        }
      ]
    },
    {
      "cell_type": "markdown",
      "source": [
        "4. What is the value of spam[-1]?"
      ],
      "metadata": {
        "id": "t7pcOWgDhfId"
      }
    },
    {
      "cell_type": "code",
      "source": [
        "spam1[-1]      #nigative value print from last element"
      ],
      "metadata": {
        "colab": {
          "base_uri": "https://localhost:8080/",
          "height": 35
        },
        "id": "T4mRG91XiTBx",
        "outputId": "304585c7-c036-4d84-f41e-1c794503825d"
      },
      "execution_count": 9,
      "outputs": [
        {
          "output_type": "execute_result",
          "data": {
            "text/plain": [
              "'d'"
            ],
            "application/vnd.google.colaboratory.intrinsic+json": {
              "type": "string"
            }
          },
          "metadata": {},
          "execution_count": 9
        }
      ]
    },
    {
      "cell_type": "markdown",
      "source": [
        "5. What is the value of spam[:2]?"
      ],
      "metadata": {
        "id": "ZgsWzFgDo-kf"
      }
    },
    {
      "cell_type": "code",
      "source": [
        "spam1[:2]  # its is use for slicing the element from the list."
      ],
      "metadata": {
        "colab": {
          "base_uri": "https://localhost:8080/"
        },
        "id": "5rddObr8pBP9",
        "outputId": "851fcb41-e85e-4f2a-a577-55fec6aecc07"
      },
      "execution_count": 10,
      "outputs": [
        {
          "output_type": "execute_result",
          "data": {
            "text/plain": [
              "['a', 'b']"
            ]
          },
          "metadata": {},
          "execution_count": 10
        }
      ]
    },
    {
      "cell_type": "markdown",
      "source": [
        "Let's pretend bacon has the list [3.14, 'cat', 11, 'cat', True] for the next three questions."
      ],
      "metadata": {
        "id": "i08RzOVqpPCj"
      }
    },
    {
      "cell_type": "code",
      "source": [
        "bacon=[3.14, 'cat', 11, 'cat', True] "
      ],
      "metadata": {
        "id": "XtIsUjBTp8Qn"
      },
      "execution_count": 11,
      "outputs": []
    },
    {
      "cell_type": "markdown",
      "source": [
        "6. What is the value of bacon.index('cat')?"
      ],
      "metadata": {
        "id": "vnbuue5iqDj_"
      }
    },
    {
      "cell_type": "markdown",
      "source": [
        "ANS-- 'cat' is on index 1"
      ],
      "metadata": {
        "id": "DavRNcVWqQKV"
      }
    },
    {
      "cell_type": "markdown",
      "source": [
        "7. How does bacon.append(99) change the look of the list value in bacon?"
      ],
      "metadata": {
        "id": "LMYpV4l5qpNN"
      }
    },
    {
      "cell_type": "code",
      "source": [
        "bacon.append(99)       #it insert the value in last of the list"
      ],
      "metadata": {
        "id": "4HGBdn6WqoSI"
      },
      "execution_count": 13,
      "outputs": []
    },
    {
      "cell_type": "code",
      "source": [
        "bacon"
      ],
      "metadata": {
        "colab": {
          "base_uri": "https://localhost:8080/"
        },
        "id": "KgEsjrX9q_L2",
        "outputId": "ca3976dd-e8c1-484a-8b9d-a9e892143e77"
      },
      "execution_count": 14,
      "outputs": [
        {
          "output_type": "execute_result",
          "data": {
            "text/plain": [
              "[3.14, 'cat', 11, 'cat', True, 99]"
            ]
          },
          "metadata": {},
          "execution_count": 14
        }
      ]
    },
    {
      "cell_type": "markdown",
      "source": [
        "8. How does bacon.remove('cat') change the look of the list in bacon?"
      ],
      "metadata": {
        "id": "8-ID76aErF0h"
      }
    },
    {
      "cell_type": "code",
      "source": [
        "bacon.remove('cat')"
      ],
      "metadata": {
        "id": "jDh-kM1brM8c"
      },
      "execution_count": 17,
      "outputs": []
    },
    {
      "cell_type": "code",
      "source": [
        "bacon"
      ],
      "metadata": {
        "colab": {
          "base_uri": "https://localhost:8080/"
        },
        "id": "rpN_nzvfr1qo",
        "outputId": "39903b0e-80b9-4635-ca9f-d128a7bd92ab"
      },
      "execution_count": 18,
      "outputs": [
        {
          "output_type": "execute_result",
          "data": {
            "text/plain": [
              "[3.14, 11, True, 99]"
            ]
          },
          "metadata": {},
          "execution_count": 18
        }
      ]
    },
    {
      "cell_type": "markdown",
      "source": [
        "9. What are the list concatenation and list replication operators?"
      ],
      "metadata": {
        "id": "Dq8XFiL3sj1j"
      }
    },
    {
      "cell_type": "code",
      "source": [
        "a=[2,3,4,5,6]\n",
        "b=[3,4,5,8,9]\n",
        "c=a+b"
      ],
      "metadata": {
        "id": "g8hU8s1hsn4e"
      },
      "execution_count": 19,
      "outputs": []
    },
    {
      "cell_type": "code",
      "source": [
        "c"
      ],
      "metadata": {
        "colab": {
          "base_uri": "https://localhost:8080/"
        },
        "id": "nQrc9CJZtaBY",
        "outputId": "21a96648-cb2f-4fb7-d6ae-b5879f466b7b"
      },
      "execution_count": 20,
      "outputs": [
        {
          "output_type": "execute_result",
          "data": {
            "text/plain": [
              "[2, 3, 4, 5, 6, 3, 4, 5, 8, 9]"
            ]
          },
          "metadata": {},
          "execution_count": 20
        }
      ]
    },
    {
      "cell_type": "code",
      "source": [
        "d='ineuron '\n",
        "d*3"
      ],
      "metadata": {
        "colab": {
          "base_uri": "https://localhost:8080/",
          "height": 35
        },
        "id": "51m6NfE2twZc",
        "outputId": "cc8405cf-0138-45e0-f208-5e2b4091eec9"
      },
      "execution_count": 23,
      "outputs": [
        {
          "output_type": "execute_result",
          "data": {
            "text/plain": [
              "'ineuron ineuron ineuron '"
            ],
            "application/vnd.google.colaboratory.intrinsic+json": {
              "type": "string"
            }
          },
          "metadata": {},
          "execution_count": 23
        }
      ]
    },
    {
      "cell_type": "markdown",
      "source": [
        "10. What is difference between the list methods append() and insert()?"
      ],
      "metadata": {
        "id": "F4UMvZikuQid"
      }
    },
    {
      "cell_type": "markdown",
      "source": [
        "ANS-- append() is use to insert the element in the last of the list while insert() is use to insert anywhere in the list we want."
      ],
      "metadata": {
        "id": "G52u2va5uqps"
      }
    },
    {
      "cell_type": "markdown",
      "source": [
        "11. What are the two methods for removing items from a list?"
      ],
      "metadata": {
        "id": "gvM-pDkivJ6k"
      }
    },
    {
      "cell_type": "markdown",
      "source": [
        "ANS--Two methods to remove items  from a list are- remove(), pop()"
      ],
      "metadata": {
        "id": "1btRmhI5vUli"
      }
    },
    {
      "cell_type": "markdown",
      "source": [
        "12. Describe how list values and string values are identical."
      ],
      "metadata": {
        "id": "oUZD3mk3vyiF"
      }
    },
    {
      "cell_type": "markdown",
      "source": [
        "ANS--We can use concatination in both.\n",
        "     we can insert or remove function in both.\n",
        "     we can find the len of both.\n",
        "     we can use slicing in both.\n"
      ],
      "metadata": {
        "id": "NI1ZOU4QwEun"
      }
    },
    {
      "cell_type": "markdown",
      "source": [
        "13. What's the difference between tuples and lists?"
      ],
      "metadata": {
        "id": "T2aKf5EUwqI4"
      }
    },
    {
      "cell_type": "markdown",
      "source": [
        "ANS--\n",
        "\n",
        "1.   List is mutable i.e we can made change in the list element but tuple is immutable. \n",
        "2.   List is define by[] and tuple is define by()\n",
        "\n"
      ],
      "metadata": {
        "id": "6vx-DkL3xr5N"
      }
    },
    {
      "cell_type": "markdown",
      "source": [
        "14. How do you type a tuple value that only contains the integer 42?"
      ],
      "metadata": {
        "id": "IhRr8IchyYTe"
      }
    },
    {
      "cell_type": "code",
      "source": [
        "A=(42,)"
      ],
      "metadata": {
        "id": "OYh0hC-kv0aT"
      },
      "execution_count": 27,
      "outputs": []
    },
    {
      "cell_type": "code",
      "source": [
        "type(A)"
      ],
      "metadata": {
        "colab": {
          "base_uri": "https://localhost:8080/"
        },
        "id": "dMjkqpduyvxE",
        "outputId": "7fee43be-84e8-4848-e6c5-8506483e3507"
      },
      "execution_count": 28,
      "outputs": [
        {
          "output_type": "execute_result",
          "data": {
            "text/plain": [
              "tuple"
            ]
          },
          "metadata": {},
          "execution_count": 28
        }
      ]
    },
    {
      "cell_type": "markdown",
      "source": [
        "15. How do you get a list value's tuple form? How do you get a tuple value's list form?"
      ],
      "metadata": {
        "id": "6CC8vzy9y9i2"
      }
    },
    {
      "cell_type": "code",
      "source": [
        "a=(1,2,34,23)\n",
        "b=[1,3,4,5,7]"
      ],
      "metadata": {
        "id": "QLiVEeFDzNRE"
      },
      "execution_count": 29,
      "outputs": []
    },
    {
      "cell_type": "code",
      "source": [
        "list(a)"
      ],
      "metadata": {
        "colab": {
          "base_uri": "https://localhost:8080/"
        },
        "id": "VLLRfA3KvRAr",
        "outputId": "082e9043-db64-49dd-e2fe-6a41d5b1245c"
      },
      "execution_count": 31,
      "outputs": [
        {
          "output_type": "execute_result",
          "data": {
            "text/plain": [
              "[1, 2, 34, 23]"
            ]
          },
          "metadata": {},
          "execution_count": 31
        }
      ]
    },
    {
      "cell_type": "code",
      "source": [
        "tuple(b)"
      ],
      "metadata": {
        "colab": {
          "base_uri": "https://localhost:8080/"
        },
        "id": "SwpmQyjxzikT",
        "outputId": "ea05815c-8eab-4826-dac2-052c815d336c"
      },
      "execution_count": 32,
      "outputs": [
        {
          "output_type": "execute_result",
          "data": {
            "text/plain": [
              "(1, 3, 4, 5, 7)"
            ]
          },
          "metadata": {},
          "execution_count": 32
        }
      ]
    },
    {
      "cell_type": "markdown",
      "source": [
        "16. Variables that 'contain' list values are not necessarily lists themselves. Instead, what do they\n",
        "contain?"
      ],
      "metadata": {
        "id": "8CAeZf-xzrvc"
      }
    },
    {
      "cell_type": "markdown",
      "source": [
        "ANS--variables contain the refrence of list values."
      ],
      "metadata": {
        "id": "xAGa0rxv2r7n"
      }
    },
    {
      "cell_type": "markdown",
      "source": [
        "17. How do you distinguish between copy.copy() and copy.deepcopy()?"
      ],
      "metadata": {
        "id": "XbkY_Cpd0Gs7"
      }
    },
    {
      "cell_type": "code",
      "source": [
        "b"
      ],
      "metadata": {
        "colab": {
          "base_uri": "https://localhost:8080/"
        },
        "id": "aJ716ESu0WJ6",
        "outputId": "89e6f7ed-37c8-4d8a-ec5e-1c7e461e7402"
      },
      "execution_count": 33,
      "outputs": [
        {
          "output_type": "execute_result",
          "data": {
            "text/plain": [
              "[1, 3, 4, 5, 7]"
            ]
          },
          "metadata": {},
          "execution_count": 33
        }
      ]
    },
    {
      "cell_type": "code",
      "source": [
        "import copy\n",
        "c=copy.copy(b)    #it is a shallow copy of the list"
      ],
      "metadata": {
        "id": "8WXiwdOduqO0"
      },
      "execution_count": 39,
      "outputs": []
    },
    {
      "cell_type": "code",
      "source": [
        "c"
      ],
      "metadata": {
        "colab": {
          "base_uri": "https://localhost:8080/"
        },
        "id": "3duzUSLduo4W",
        "outputId": "dde276cf-07df-4e1c-e88d-92b3b515f1a9"
      },
      "execution_count": 40,
      "outputs": [
        {
          "output_type": "execute_result",
          "data": {
            "text/plain": [
              "[1, 3, 4, 5, 7]"
            ]
          },
          "metadata": {},
          "execution_count": 40
        }
      ]
    },
    {
      "cell_type": "code",
      "source": [
        "d=copy.deepcopy(b)   #it is deep copy of the list"
      ],
      "metadata": {
        "id": "83xuu9R5uM0l"
      },
      "execution_count": 41,
      "outputs": []
    },
    {
      "cell_type": "code",
      "source": [
        "d"
      ],
      "metadata": {
        "colab": {
          "base_uri": "https://localhost:8080/"
        },
        "id": "PypzmsbX1iO9",
        "outputId": "fba9c36e-7277-4484-864f-ee6c97e78e0a"
      },
      "execution_count": 42,
      "outputs": [
        {
          "output_type": "execute_result",
          "data": {
            "text/plain": [
              "[1, 3, 4, 5, 7]"
            ]
          },
          "metadata": {},
          "execution_count": 42
        }
      ]
    }
  ]
}