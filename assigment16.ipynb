{
  "nbformat": 4,
  "nbformat_minor": 0,
  "metadata": {
    "colab": {
      "provenance": []
    },
    "kernelspec": {
      "name": "python3",
      "display_name": "Python 3"
    },
    "language_info": {
      "name": "python"
    }
  },
  "cells": [
    {
      "cell_type": "markdown",
      "source": [
        "1. Create a list called years_list, starting with the year of your birth, and each year thereafter until\n",
        "the year of your fifth birthday. For example, if you were born in 1980. the list would be years_list =\n",
        "[1980, 1981, 1982, 1983, 1984, 1985]."
      ],
      "metadata": {
        "id": "fmHbOzODAIIV"
      }
    },
    {
      "cell_type": "code",
      "execution_count": 1,
      "metadata": {
        "colab": {
          "base_uri": "https://localhost:8080/"
        },
        "id": "TJ4h9g3K_4IA",
        "outputId": "c6a0be0d-7986-4497-e48b-9bac6a40c847"
      },
      "outputs": [
        {
          "output_type": "execute_result",
          "data": {
            "text/plain": [
              "[1990, 1991, 1992, 1993, 1994, 1995]"
            ]
          },
          "metadata": {},
          "execution_count": 1
        }
      ],
      "source": [
        "years_list = [i for i in range(1990,1990+6)]\n",
        "years_list\n",
        "     "
      ]
    },
    {
      "cell_type": "markdown",
      "source": [
        "2. In which year in years_list was your third birthday? Remember, you were 0 years of age for your\n",
        "first year."
      ],
      "metadata": {
        "id": "P7o66ftmAeeO"
      }
    },
    {
      "cell_type": "code",
      "source": [
        "years_list[3]"
      ],
      "metadata": {
        "colab": {
          "base_uri": "https://localhost:8080/"
        },
        "id": "v7K9Hp01AfkR",
        "outputId": "70da35a5-9572-4cae-89fb-655e58023875"
      },
      "execution_count": 2,
      "outputs": [
        {
          "output_type": "execute_result",
          "data": {
            "text/plain": [
              "1993"
            ]
          },
          "metadata": {},
          "execution_count": 2
        }
      ]
    },
    {
      "cell_type": "markdown",
      "source": [
        "3.In the years list, which year were you the oldest?"
      ],
      "metadata": {
        "id": "0k_ts7o0BAW_"
      }
    },
    {
      "cell_type": "code",
      "source": [
        "\n",
        "max(years_list)"
      ],
      "metadata": {
        "colab": {
          "base_uri": "https://localhost:8080/"
        },
        "id": "2ZgQeWiXBGHx",
        "outputId": "bb944335-b5d4-4192-cde0-eaad04b5f3fa"
      },
      "execution_count": 3,
      "outputs": [
        {
          "output_type": "execute_result",
          "data": {
            "text/plain": [
              "1995"
            ]
          },
          "metadata": {},
          "execution_count": 3
        }
      ]
    },
    {
      "cell_type": "markdown",
      "source": [
        "4. Make a list called things with these three strings as elements: \"mozzarella\", \"cinderella\",\"salmonella\"."
      ],
      "metadata": {
        "id": "_1ntiF_7BIdI"
      }
    },
    {
      "cell_type": "code",
      "source": [
        "\n",
        "things = list(['mozzarella', 'cinderella','salmonella'])\n",
        "things"
      ],
      "metadata": {
        "colab": {
          "base_uri": "https://localhost:8080/"
        },
        "id": "NaDEajJSBXPf",
        "outputId": "a3068243-f879-4b02-f245-f71024b995f0"
      },
      "execution_count": 4,
      "outputs": [
        {
          "output_type": "execute_result",
          "data": {
            "text/plain": [
              "['mozzarella', 'cinderella', 'salmonella']"
            ]
          },
          "metadata": {},
          "execution_count": 4
        }
      ]
    },
    {
      "cell_type": "markdown",
      "source": [
        "5. Capitalize the element in things that refers to a person and then print the list. Did it change the\n",
        "element in the list?"
      ],
      "metadata": {
        "id": "1dYE5jtTBeBw"
      }
    },
    {
      "cell_type": "code",
      "source": [
        "for i in things:\n",
        "    print(i.capitalize())\n",
        "things"
      ],
      "metadata": {
        "colab": {
          "base_uri": "https://localhost:8080/"
        },
        "id": "c6VahwKqBiPx",
        "outputId": "d810e41e-55df-420f-827d-3b49d042f412"
      },
      "execution_count": 5,
      "outputs": [
        {
          "output_type": "stream",
          "name": "stdout",
          "text": [
            "Mozzarella\n",
            "Cinderella\n",
            "Salmonella\n"
          ]
        },
        {
          "output_type": "execute_result",
          "data": {
            "text/plain": [
              "['mozzarella', 'cinderella', 'salmonella']"
            ]
          },
          "metadata": {},
          "execution_count": 5
        }
      ]
    },
    {
      "cell_type": "markdown",
      "source": [
        "6. Make a surprise list with the elements \"Groucho\", \n",
        "\"Chico\", and \"Harpo.\""
      ],
      "metadata": {
        "id": "dD1d-boTC16L"
      }
    },
    {
      "cell_type": "code",
      "source": [
        "\n",
        "surprise_list = [\"Groucho\", \"Chico\", \"Harpo\"]\n",
        "surprise_list"
      ],
      "metadata": {
        "colab": {
          "base_uri": "https://localhost:8080/"
        },
        "id": "2a_tGfiyDF-T",
        "outputId": "b85b2a4e-216f-46c4-a337-359e1cb9ba3c"
      },
      "execution_count": 6,
      "outputs": [
        {
          "output_type": "execute_result",
          "data": {
            "text/plain": [
              "['Groucho', 'Chico', 'Harpo']"
            ]
          },
          "metadata": {},
          "execution_count": 6
        }
      ]
    },
    {
      "cell_type": "markdown",
      "source": [
        "7. Lowercase the last element of the surprise list, reverse it, and then capitalize it."
      ],
      "metadata": {
        "id": "39hF8Hn7DRm5"
      }
    },
    {
      "cell_type": "code",
      "source": [
        "surprise_list[-1][::-1].upper()"
      ],
      "metadata": {
        "colab": {
          "base_uri": "https://localhost:8080/",
          "height": 35
        },
        "id": "zLhVx3uPDNle",
        "outputId": "a0b209a9-3f20-4095-97d3-09e35faef9d0"
      },
      "execution_count": 7,
      "outputs": [
        {
          "output_type": "execute_result",
          "data": {
            "text/plain": [
              "'OPRAH'"
            ],
            "application/vnd.google.colaboratory.intrinsic+json": {
              "type": "string"
            }
          },
          "metadata": {},
          "execution_count": 7
        }
      ]
    },
    {
      "cell_type": "markdown",
      "source": [
        "8. Make an English-to-French dictionary called e2f and print it. Here are your starter words: dog is\n",
        "chien, cat is chat, and walrus is morse."
      ],
      "metadata": {
        "id": "sE4EXDyNDrlb"
      }
    },
    {
      "cell_type": "code",
      "source": [
        "\n",
        "e2f = {'dog':'chien','cat':'chat','walrus':'morse'}"
      ],
      "metadata": {
        "id": "6S-jhXJ1DrGU"
      },
      "execution_count": 8,
      "outputs": []
    },
    {
      "cell_type": "markdown",
      "source": [
        "9. Write the French word for walrus in your three-word dictionary e2f."
      ],
      "metadata": {
        "id": "-Q_8beTNEBiY"
      }
    },
    {
      "cell_type": "code",
      "source": [
        "e2f['walrus']"
      ],
      "metadata": {
        "colab": {
          "base_uri": "https://localhost:8080/",
          "height": 35
        },
        "id": "UmRJD77RECT7",
        "outputId": "f9e1b627-05ed-482d-8776-f4f9ae652117"
      },
      "execution_count": 9,
      "outputs": [
        {
          "output_type": "execute_result",
          "data": {
            "text/plain": [
              "'morse'"
            ],
            "application/vnd.google.colaboratory.intrinsic+json": {
              "type": "string"
            }
          },
          "metadata": {},
          "execution_count": 9
        }
      ]
    },
    {
      "cell_type": "markdown",
      "source": [
        "10. Make a French-to-English dictionary called f2e from e2f. Use the items method."
      ],
      "metadata": {
        "id": "JaiPKZwOEL7z"
      }
    },
    {
      "cell_type": "code",
      "source": [
        "f2e = dict((key,value) for value,key in e2f.items())\n",
        "f2e\n",
        "     "
      ],
      "metadata": {
        "colab": {
          "base_uri": "https://localhost:8080/"
        },
        "id": "_JjJADlsEatQ",
        "outputId": "c4d53be9-7f13-420d-dc3d-9a5e1d8a2126"
      },
      "execution_count": 10,
      "outputs": [
        {
          "output_type": "execute_result",
          "data": {
            "text/plain": [
              "{'chien': 'dog', 'chat': 'cat', 'morse': 'walrus'}"
            ]
          },
          "metadata": {},
          "execution_count": 10
        }
      ]
    },
    {
      "cell_type": "markdown",
      "source": [
        "11. Print the English version of the French word chien using f2e."
      ],
      "metadata": {
        "id": "doXEn8GfEeDz"
      }
    },
    {
      "cell_type": "code",
      "source": [
        "f2e['chien']"
      ],
      "metadata": {
        "colab": {
          "base_uri": "https://localhost:8080/",
          "height": 35
        },
        "id": "TzlncFMEEjAU",
        "outputId": "a1025ec2-32d4-4578-8c8b-1099f6ffbba9"
      },
      "execution_count": 11,
      "outputs": [
        {
          "output_type": "execute_result",
          "data": {
            "text/plain": [
              "'dog'"
            ],
            "application/vnd.google.colaboratory.intrinsic+json": {
              "type": "string"
            }
          },
          "metadata": {},
          "execution_count": 11
        }
      ]
    },
    {
      "cell_type": "markdown",
      "source": [
        "12. Make and print a set of English words from the keys in e2f."
      ],
      "metadata": {
        "id": "KbvOyH1DEql6"
      }
    },
    {
      "cell_type": "code",
      "source": [
        "e2f.keys()"
      ],
      "metadata": {
        "colab": {
          "base_uri": "https://localhost:8080/"
        },
        "id": "r_ViY1ZvErq3",
        "outputId": "a8a82dc2-7df3-40be-e83e-4cb87be76b39"
      },
      "execution_count": 12,
      "outputs": [
        {
          "output_type": "execute_result",
          "data": {
            "text/plain": [
              "dict_keys(['dog', 'cat', 'walrus'])"
            ]
          },
          "metadata": {},
          "execution_count": 12
        }
      ]
    },
    {
      "cell_type": "markdown",
      "source": [
        "Q. Make a multilevel dictionary called life. Use these strings for the topmost keys: 'animals', 'plants', and 'other'. Make the 'animals' key refer to another dictionary with the keys 'cats', 'octopi', and 'emus'. Make the 'cats' key refer to a list of strings with the values 'Henri', 'Grumpy', and 'Lucy'. Make all the other keys refer to empty dictionaries."
      ],
      "metadata": {
        "id": "sUvvnXOiE8go"
      }
    },
    {
      "cell_type": "code",
      "source": [
        "\n",
        "life ={'animals':{'cat':['Henri', 'Grumpy', 'Lucy'], 'octopi':'', 'emus':''},\n",
        "       'plants' :'',\n",
        "       'other' :'' }\n",
        "life"
      ],
      "metadata": {
        "colab": {
          "base_uri": "https://localhost:8080/"
        },
        "id": "NwjwuIqqE9_v",
        "outputId": "24b88b52-32e4-461c-b061-472365ce41a0"
      },
      "execution_count": 13,
      "outputs": [
        {
          "output_type": "execute_result",
          "data": {
            "text/plain": [
              "{'animals': {'cat': ['Henri', 'Grumpy', 'Lucy'], 'octopi': '', 'emus': ''},\n",
              " 'plants': '',\n",
              " 'other': ''}"
            ]
          },
          "metadata": {},
          "execution_count": 13
        }
      ]
    },
    {
      "cell_type": "markdown",
      "source": [
        "14. Print the top-level keys of life."
      ],
      "metadata": {
        "id": "ktw4cBMwFUk5"
      }
    },
    {
      "cell_type": "code",
      "source": [
        "\n",
        "life.keys()"
      ],
      "metadata": {
        "colab": {
          "base_uri": "https://localhost:8080/"
        },
        "id": "S896Qb1zFWrW",
        "outputId": "aa58555a-c66e-4edd-c5d3-75d70504c5ca"
      },
      "execution_count": 14,
      "outputs": [
        {
          "output_type": "execute_result",
          "data": {
            "text/plain": [
              "dict_keys(['animals', 'plants', 'other'])"
            ]
          },
          "metadata": {},
          "execution_count": 14
        }
      ]
    },
    {
      "cell_type": "markdown",
      "source": [
        "Q. Print the keys for life['animals']."
      ],
      "metadata": {
        "id": "9CU3zi7_FrNy"
      }
    },
    {
      "cell_type": "code",
      "source": [
        "life['animals'].keys()"
      ],
      "metadata": {
        "colab": {
          "base_uri": "https://localhost:8080/"
        },
        "id": "kJqza1XwFsp5",
        "outputId": "98fa91f2-0b75-4885-91d6-8fe0a73b1198"
      },
      "execution_count": 15,
      "outputs": [
        {
          "output_type": "execute_result",
          "data": {
            "text/plain": [
              "dict_keys(['cat', 'octopi', 'emus'])"
            ]
          },
          "metadata": {},
          "execution_count": 15
        }
      ]
    },
    {
      "cell_type": "markdown",
      "source": [
        "Q. Print the values for life['animals']['cat']"
      ],
      "metadata": {
        "id": "tmDJfZkCFy6q"
      }
    },
    {
      "cell_type": "code",
      "source": [
        "life['animals']['cat']"
      ],
      "metadata": {
        "colab": {
          "base_uri": "https://localhost:8080/"
        },
        "id": "GDDaG9BnGA0G",
        "outputId": "79125cf8-c673-4a80-f035-fe1f90492864"
      },
      "execution_count": 16,
      "outputs": [
        {
          "output_type": "execute_result",
          "data": {
            "text/plain": [
              "['Henri', 'Grumpy', 'Lucy']"
            ]
          },
          "metadata": {},
          "execution_count": 16
        }
      ]
    }
  ]
}