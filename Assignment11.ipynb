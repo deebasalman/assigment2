{
  "nbformat": 4,
  "nbformat_minor": 0,
  "metadata": {
    "colab": {
      "provenance": []
    },
    "kernelspec": {
      "name": "python3",
      "display_name": "Python 3"
    },
    "language_info": {
      "name": "python"
    }
  },
  "cells": [
    {
      "cell_type": "markdown",
      "source": [
        "1. Create an assert statement that throws an AssertionError if the variable spam is a negative\n",
        "integer."
      ],
      "metadata": {
        "id": "l3lwhGfeO8wM"
      }
    },
    {
      "cell_type": "markdown",
      "source": [
        "Ans. The assert statement is used to continue the execute if the given condition evaluates to True. If the assert condition evaluates to False, then it raises the AssertionError exception with the specified error message."
      ],
      "metadata": {
        "id": "CCjr9thSPNzh"
      }
    },
    {
      "cell_type": "code",
      "execution_count": 1,
      "metadata": {
        "colab": {
          "base_uri": "https://localhost:8080/"
        },
        "id": "_3zraHyWMLZI",
        "outputId": "8aed6334-0634-4ae7-9b74-138ae9b326c8"
      },
      "outputs": [
        {
          "output_type": "stream",
          "name": "stdout",
          "text": [
            "Looking in indexes: https://pypi.org/simple, https://us-python.pkg.dev/colab-wheels/public/simple/\n",
            "Collecting pyinputplus\n",
            "  Downloading PyInputPlus-0.2.12.tar.gz (20 kB)\n",
            "  Installing build dependencies ... \u001b[?25l\u001b[?25hdone\n",
            "  Getting requirements to build wheel ... \u001b[?25l\u001b[?25hdone\n",
            "  Preparing metadata (pyproject.toml) ... \u001b[?25l\u001b[?25hdone\n",
            "Collecting pysimplevalidate>=0.2.7 (from pyinputplus)\n",
            "  Downloading PySimpleValidate-0.2.12.tar.gz (22 kB)\n",
            "  Installing build dependencies ... \u001b[?25l\u001b[?25hdone\n",
            "  Getting requirements to build wheel ... \u001b[?25l\u001b[?25hdone\n",
            "  Preparing metadata (pyproject.toml) ... \u001b[?25l\u001b[?25hdone\n",
            "Collecting stdiomask>=0.0.3 (from pyinputplus)\n",
            "  Downloading stdiomask-0.0.6.tar.gz (3.6 kB)\n",
            "  Installing build dependencies ... \u001b[?25l\u001b[?25hdone\n",
            "  Getting requirements to build wheel ... \u001b[?25l\u001b[?25hdone\n",
            "  Preparing metadata (pyproject.toml) ... \u001b[?25l\u001b[?25hdone\n",
            "Building wheels for collected packages: pyinputplus, pysimplevalidate, stdiomask\n",
            "  Building wheel for pyinputplus (pyproject.toml) ... \u001b[?25l\u001b[?25hdone\n",
            "  Created wheel for pyinputplus: filename=PyInputPlus-0.2.12-py3-none-any.whl size=11297 sha256=5633bc99ce6bae3839f278df32ebf1c11487838f8c8384cc4257aefb04d194b5\n",
            "  Stored in directory: /root/.cache/pip/wheels/13/ec/a5/f780c8008b74e885aada43369ebf4d350edfd12bb5909ccb23\n",
            "  Building wheel for pysimplevalidate (pyproject.toml) ... \u001b[?25l\u001b[?25hdone\n",
            "  Created wheel for pysimplevalidate: filename=PySimpleValidate-0.2.12-py3-none-any.whl size=16176 sha256=5867275a094fe94687cd7577a2e89fea17ed062477405f3a6098f10d7737acc3\n",
            "  Stored in directory: /root/.cache/pip/wheels/64/29/c9/2ee861e5b0775e289013b7c7157e0bdcea3a1b844f835b2eb8\n",
            "  Building wheel for stdiomask (pyproject.toml) ... \u001b[?25l\u001b[?25hdone\n",
            "  Created wheel for stdiomask: filename=stdiomask-0.0.6-py3-none-any.whl size=3306 sha256=56b6f81a9393033a43b44f10781db0d8d48a80ce9164fde271b194f51b4f213a\n",
            "  Stored in directory: /root/.cache/pip/wheels/6c/00/4b/0715696f101d7376f67a83cf3d545feb8c241eeee75b80bb6f\n",
            "Successfully built pyinputplus pysimplevalidate stdiomask\n",
            "Installing collected packages: stdiomask, pysimplevalidate, pyinputplus\n",
            "Successfully installed pyinputplus-0.2.12 pysimplevalidate-0.2.12 stdiomask-0.0.6\n"
          ]
        }
      ],
      "source": [
        "!pip install pyinputplus"
      ]
    },
    {
      "cell_type": "code",
      "source": [
        "import pyinputplus as pyip\n",
        "\n",
        "spam = pyip.inputNum(\" Enter a positive number :\")\n",
        "assert spam > 0\n",
        "print(spam,'is a positive number')"
      ],
      "metadata": {
        "colab": {
          "base_uri": "https://localhost:8080/",
          "height": 235
        },
        "id": "wW8YJBxWQKTl",
        "outputId": "1d16a77f-2558-44ed-cd8c-1bd82807da21"
      },
      "execution_count": 2,
      "outputs": [
        {
          "name": "stdout",
          "output_type": "stream",
          "text": [
            " Enter a positive number :-7\n"
          ]
        },
        {
          "output_type": "error",
          "ename": "AssertionError",
          "evalue": "ignored",
          "traceback": [
            "\u001b[0;31m---------------------------------------------------------------------------\u001b[0m",
            "\u001b[0;31mAssertionError\u001b[0m                            Traceback (most recent call last)",
            "\u001b[0;32m<ipython-input-2-f0c2750e9055>\u001b[0m in \u001b[0;36m<cell line: 4>\u001b[0;34m()\u001b[0m\n\u001b[1;32m      2\u001b[0m \u001b[0;34m\u001b[0m\u001b[0m\n\u001b[1;32m      3\u001b[0m \u001b[0mspam\u001b[0m \u001b[0;34m=\u001b[0m \u001b[0mpyip\u001b[0m\u001b[0;34m.\u001b[0m\u001b[0minputNum\u001b[0m\u001b[0;34m(\u001b[0m\u001b[0;34m\" Enter a positive number :\"\u001b[0m\u001b[0;34m)\u001b[0m\u001b[0;34m\u001b[0m\u001b[0;34m\u001b[0m\u001b[0m\n\u001b[0;32m----> 4\u001b[0;31m \u001b[0;32massert\u001b[0m \u001b[0mspam\u001b[0m \u001b[0;34m>\u001b[0m \u001b[0;36m0\u001b[0m\u001b[0;34m\u001b[0m\u001b[0;34m\u001b[0m\u001b[0m\n\u001b[0m\u001b[1;32m      5\u001b[0m \u001b[0mprint\u001b[0m\u001b[0;34m(\u001b[0m\u001b[0mspam\u001b[0m\u001b[0;34m,\u001b[0m\u001b[0;34m'is a positive number'\u001b[0m\u001b[0;34m)\u001b[0m\u001b[0;34m\u001b[0m\u001b[0;34m\u001b[0m\u001b[0m\n",
            "\u001b[0;31mAssertionError\u001b[0m: "
          ]
        }
      ]
    },
    {
      "cell_type": "markdown",
      "source": [
        "2. Write an assert statement that triggers an AssertionError if the variables eggs and bacon contain\n",
        "strings that are the same as each other, even if their cases are different (that is, 'hello' and 'hello' are\n",
        "considered the same, and 'goodbye' and 'GOODbye' are also considered the same)."
      ],
      "metadata": {
        "id": "WhnKv1TaQXbc"
      }
    },
    {
      "cell_type": "code",
      "source": [
        "eggs='Hello'\n",
        "bacon ='hello'\n",
        "\n",
        "assert eggs.lower() != bacon.lower() or eggs.upper() != bacon.upper()\n",
        "print('The eggs and bacon variables are not the same!')"
      ],
      "metadata": {
        "colab": {
          "base_uri": "https://localhost:8080/",
          "height": 217
        },
        "id": "No7J46aoRSNz",
        "outputId": "aa2f57f6-6cde-4009-ecad-85c9526712ef"
      },
      "execution_count": 3,
      "outputs": [
        {
          "output_type": "error",
          "ename": "AssertionError",
          "evalue": "ignored",
          "traceback": [
            "\u001b[0;31m---------------------------------------------------------------------------\u001b[0m",
            "\u001b[0;31mAssertionError\u001b[0m                            Traceback (most recent call last)",
            "\u001b[0;32m<ipython-input-3-ff14aa322207>\u001b[0m in \u001b[0;36m<cell line: 4>\u001b[0;34m()\u001b[0m\n\u001b[1;32m      2\u001b[0m \u001b[0mbacon\u001b[0m \u001b[0;34m=\u001b[0m\u001b[0;34m'hello'\u001b[0m\u001b[0;34m\u001b[0m\u001b[0;34m\u001b[0m\u001b[0m\n\u001b[1;32m      3\u001b[0m \u001b[0;34m\u001b[0m\u001b[0m\n\u001b[0;32m----> 4\u001b[0;31m \u001b[0;32massert\u001b[0m \u001b[0meggs\u001b[0m\u001b[0;34m.\u001b[0m\u001b[0mlower\u001b[0m\u001b[0;34m(\u001b[0m\u001b[0;34m)\u001b[0m \u001b[0;34m!=\u001b[0m \u001b[0mbacon\u001b[0m\u001b[0;34m.\u001b[0m\u001b[0mlower\u001b[0m\u001b[0;34m(\u001b[0m\u001b[0;34m)\u001b[0m \u001b[0;32mor\u001b[0m \u001b[0meggs\u001b[0m\u001b[0;34m.\u001b[0m\u001b[0mupper\u001b[0m\u001b[0;34m(\u001b[0m\u001b[0;34m)\u001b[0m \u001b[0;34m!=\u001b[0m \u001b[0mbacon\u001b[0m\u001b[0;34m.\u001b[0m\u001b[0mupper\u001b[0m\u001b[0;34m(\u001b[0m\u001b[0;34m)\u001b[0m\u001b[0;34m\u001b[0m\u001b[0;34m\u001b[0m\u001b[0m\n\u001b[0m\u001b[1;32m      5\u001b[0m \u001b[0mprint\u001b[0m\u001b[0;34m(\u001b[0m\u001b[0;34m'The eggs and bacon variables are not the same!'\u001b[0m\u001b[0;34m)\u001b[0m\u001b[0;34m\u001b[0m\u001b[0;34m\u001b[0m\u001b[0m\n",
            "\u001b[0;31mAssertionError\u001b[0m: "
          ]
        }
      ]
    },
    {
      "cell_type": "markdown",
      "source": [
        "\n",
        "Q. Create an assert statement that throws an AssertionError every time."
      ],
      "metadata": {
        "id": "CIOZ56ivRi_L"
      }
    },
    {
      "cell_type": "markdown",
      "source": [
        "assert False - this always triggers an exception"
      ],
      "metadata": {
        "id": "Z0yMJ0dwRr6z"
      }
    },
    {
      "cell_type": "code",
      "source": [
        "assert False"
      ],
      "metadata": {
        "colab": {
          "base_uri": "https://localhost:8080/",
          "height": 165
        },
        "id": "umpnOqqTRrRd",
        "outputId": "276515b4-8669-4490-8dc9-4bf759e466c1"
      },
      "execution_count": 4,
      "outputs": [
        {
          "output_type": "error",
          "ename": "AssertionError",
          "evalue": "ignored",
          "traceback": [
            "\u001b[0;31m---------------------------------------------------------------------------\u001b[0m",
            "\u001b[0;31mAssertionError\u001b[0m                            Traceback (most recent call last)",
            "\u001b[0;32m<ipython-input-4-a871fdc9ebee>\u001b[0m in \u001b[0;36m<cell line: 1>\u001b[0;34m()\u001b[0m\n\u001b[0;32m----> 1\u001b[0;31m \u001b[0;32massert\u001b[0m \u001b[0;32mFalse\u001b[0m\u001b[0;34m\u001b[0m\u001b[0;34m\u001b[0m\u001b[0m\n\u001b[0m",
            "\u001b[0;31mAssertionError\u001b[0m: "
          ]
        }
      ]
    },
    {
      "cell_type": "markdown",
      "source": [
        "Q. 4. What are the two lines that must be present in your software in order to call logging.debug()?"
      ],
      "metadata": {
        "id": "5IuduEBNSBus"
      }
    },
    {
      "cell_type": "code",
      "source": [
        "import logging as lg\n",
        "lg.basicConfig(level=lg.DEBUG, format=' %(asctime)s - %(levelname)s - %(message)s')"
      ],
      "metadata": {
        "id": "Iw-pU9GYSFHB"
      },
      "execution_count": 5,
      "outputs": []
    },
    {
      "cell_type": "markdown",
      "source": [
        "Q.5.What are the two lines that your program must have in order to have logging.debug() send a logging message to a file named programLog.txt?"
      ],
      "metadata": {
        "id": "G8rJcVFqSolJ"
      }
    },
    {
      "cell_type": "code",
      "source": [
        "\n",
        "import logging as lg\n",
        "lg.basicConfig(filename='programLog.txt', level=lg.DEBUG, format=' %(asctime)s - %(levelname)s - %(message)s')"
      ],
      "metadata": {
        "id": "LvIyMde2TGZv"
      },
      "execution_count": 6,
      "outputs": []
    },
    {
      "cell_type": "markdown",
      "source": [
        "6. What are the five levels of logging?"
      ],
      "metadata": {
        "id": "D7tFq3C1TA1f"
      }
    },
    {
      "cell_type": "markdown",
      "source": [
        "Ans .Five level of loggins are DEBUG, INFO, WARNING, ERROR, and CRITICAL\n",
        "\n",
        "logging.debug() - variable's state and small details\n",
        "\n",
        "logging.info() - general events, confirm a program is working\n",
        "\n",
        "logging.warning() - potiental problem to work on in the future\n",
        "\n",
        "logging.error() - record an error that caused program to fail to do something\n",
        "\n",
        "logging.critical() - fatal error that has caused"
      ],
      "metadata": {
        "id": "XOF9EbH8TrMv"
      }
    },
    {
      "cell_type": "markdown",
      "source": [
        "7. What line of code would you add to your software to disable all logging messages?"
      ],
      "metadata": {
        "id": "ueFsV3ogUBoo"
      }
    },
    {
      "cell_type": "code",
      "source": [
        "import logging as lg\n",
        "lg.disable(lg.CRITICAL)\n",
        "     "
      ],
      "metadata": {
        "id": "P8vyT4yXUViP"
      },
      "execution_count": 7,
      "outputs": []
    },
    {
      "cell_type": "markdown",
      "source": [
        "8.Why is using logging messages better than using print() to display the same message?"
      ],
      "metadata": {
        "id": "z2z4Wnh8UtYH"
      }
    },
    {
      "cell_type": "markdown",
      "source": [
        "Ans.\n",
        "\n",
        "You can disable logging messages without removing the logging function calls.\n",
        "\n",
        "You can selectively disable lower-level logging messages.\n",
        "\n",
        "You can create logging messages. Logging messages provides a timestamp."
      ],
      "metadata": {
        "id": "P0RbkMeVU3mQ"
      }
    },
    {
      "cell_type": "markdown",
      "source": [
        "9. What are the differences between the Step Over, Step In, and Step Out buttons in the debugger?"
      ],
      "metadata": {
        "id": "UxfU5F38U6ZF"
      }
    },
    {
      "cell_type": "markdown",
      "source": [
        "Ans.\n",
        "\n",
        "The Step in button will move the debugger into a function call.\n",
        "\n",
        "The Over button will quickly execute the function call without stepping into it.\n",
        "\n",
        "The Out button will quickly execute the rest of the code until it steps out of the function it currently is in."
      ],
      "metadata": {
        "id": "EzunNwCpV00M"
      }
    },
    {
      "cell_type": "markdown",
      "source": [
        "10.After you click Continue, when will the debugger stop ?"
      ],
      "metadata": {
        "id": "UaTcwAUxV3MC"
      }
    },
    {
      "cell_type": "markdown",
      "source": [
        "Ans. It will stops at next breakpoint, if there are no further breakpoints program will be fully executed."
      ],
      "metadata": {
        "id": "knxnUcQgV8T0"
      }
    },
    {
      "cell_type": "markdown",
      "source": [
        "11. What is the concept of a breakpoint?"
      ],
      "metadata": {
        "id": "ERXKRla7WDny"
      }
    },
    {
      "cell_type": "markdown",
      "source": [
        "Ans. A breakpoint is an intentional stopping point or pause put into a program for debugging purposes."
      ],
      "metadata": {
        "id": "wEOHE9g4WHfL"
      }
    }
  ]
}