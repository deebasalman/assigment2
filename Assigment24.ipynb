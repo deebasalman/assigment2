{
  "nbformat": 4,
  "nbformat_minor": 0,
  "metadata": {
    "colab": {
      "provenance": []
    },
    "kernelspec": {
      "name": "python3",
      "display_name": "Python 3"
    },
    "language_info": {
      "name": "python"
    }
  },
  "cells": [
    {
      "cell_type": "markdown",
      "source": [
        "1. What is the relationship between def statements and lambda expressions ?"
      ],
      "metadata": {
        "id": "sVPn3mxjkDMS"
      }
    },
    {
      "cell_type": "markdown",
      "source": [
        "Ans. Keyword def that marks the start of the function header. A function name to uniquely identify the function.\n",
        "Function naming follows the same rules of writing identifiers in Python\n",
        "\n",
        "Lambdas are one-line methods without a name or we can say anonymous Func\n",
        "They work practically the same as any other method in Python Lambdas differ from normal Python methods because they can have only one expression, can't contain any statements and their return type is a function object"
      ],
      "metadata": {
        "id": "zDhXzQnAkEt-"
      }
    },
    {
      "cell_type": "markdown",
      "source": [
        "2. What is the benefit of lambda?"
      ],
      "metadata": {
        "id": "Dvo7fdC5kT9A"
      }
    },
    {
      "cell_type": "markdown",
      "source": [
        "Ans. Fewer Lines of Code\n",
        "Lambda functions are inline functions and thus execute comparatively faster Many times lambda functions make code much more readable by avoiding the logical jumps caused by function calls"
      ],
      "metadata": {
        "id": "g5_Nf_4Skfu4"
      }
    },
    {
      "cell_type": "markdown",
      "source": [
        "3. Compare and contrast map, filter, and reduce"
      ],
      "metadata": {
        "id": "pwO4B6yVk2pO"
      }
    },
    {
      "cell_type": "markdown",
      "source": [
        "Ans. map applies as a transformation to an element.\n",
        "The map() function iterates through all items in the given iterable and executes the function we passed as an argument on each of them. Syntax : map(function, iterable(s))\n",
        "\n",
        "filter accumulates only elements matching a condition.\n",
        "filter() forms a new list that contains only elements that satisfy a certain condition, i.e. the function we passed returns True Syntax : filter(function, iterable(s))\n",
        "\n",
        "reduce accumulates all elements to a single value, by using immutable values\n",
        "reduce() works by calling the function we passed for the first two items in the sequence. The result returned by the function is used in another call to function alongside with the next (third in this case), element Syntax : reduce(function, sequence[, initial])"
      ],
      "metadata": {
        "id": "F2Fo9dvjlAx5"
      }
    },
    {
      "cell_type": "code",
      "execution_count": 1,
      "metadata": {
        "colab": {
          "base_uri": "https://localhost:8080/"
        },
        "id": "roUVCVXWj-J-",
        "outputId": "18eff7e5-32f5-403e-b18f-4754dca744d5"
      },
      "outputs": [
        {
          "output_type": "stream",
          "name": "stdout",
          "text": [
            "True\n",
            "False\n",
            "False\n",
            "False\n",
            "False\n"
          ]
        }
      ],
      "source": [
        "### Map functions\n",
        "Animal = [\"Anteater\", \"Dog\", \"Elephant\", \"Giraffe\", \"Cat\"]\n",
        "map_object = map(lambda s: s[0] == \"A\", Animal)\n",
        "\n",
        "\n",
        "for i in map_object:\n",
        "    print(i)"
      ]
    },
    {
      "cell_type": "code",
      "source": [
        "### Filter function\n",
        "Animal = [\"Anteater\", \"Dog\", \"Elephant\", \"Giraffe\", \"Cat\"]\n",
        "filter_object = filter(lambda s: s[0] == \"A\", Animal)\n",
        "\n",
        "for i in filter_object:\n",
        "    print(i)\n",
        "     "
      ],
      "metadata": {
        "colab": {
          "base_uri": "https://localhost:8080/"
        },
        "id": "7Wg-6W-Lluw4",
        "outputId": "bfdd48fa-3eb2-429f-f714-6496f398234a"
      },
      "execution_count": 2,
      "outputs": [
        {
          "output_type": "stream",
          "name": "stdout",
          "text": [
            "Anteater\n"
          ]
        }
      ]
    },
    {
      "cell_type": "code",
      "source": [
        "### Reduce function\n",
        "from functools import reduce\n",
        "\n",
        "list = [4, 3, 8, 3]\n",
        "print(reduce(lambda x, y: x + y, list))\n",
        "print(\"With an initial value: \" + str(reduce(lambda x, y: x + y, list, 10)))"
      ],
      "metadata": {
        "colab": {
          "base_uri": "https://localhost:8080/"
        },
        "id": "y_ySocbfmP9b",
        "outputId": "b257b393-0ed8-422a-ad48-d8b81168d3ff"
      },
      "execution_count": 3,
      "outputs": [
        {
          "output_type": "stream",
          "name": "stdout",
          "text": [
            "18\n",
            "With an initial value: 28\n"
          ]
        }
      ]
    },
    {
      "cell_type": "markdown",
      "source": [
        "4. What are function annotations, and how are they used?"
      ],
      "metadata": {
        "id": "g16_PfVAmvg1"
      }
    },
    {
      "cell_type": "markdown",
      "source": [
        "\n",
        "\n",
        "Ans. Function annotation is the standard way to access the metadata with the arguments and the return value of the function.\n",
        "These are nothing but some random and optional Python expressions that get allied to different parts of the function. They get evaluated only during the compile-time and have no significance during the run-time of the code. They do not have any significance or meaning associated with them until accessed by some third-party libraries. They are used to type check the functions by declaring the type of the parameters and the return value for the functions. The string-based annotations help us to improve the help messages.\n",
        "\n",
        "Syntax :\n",
        "\n",
        "def func(a: 'int') -> 'int':\n",
        "pass\n",
        "Annotations for simple parameters:\n",
        "\n",
        "def func(x: 'float'=10.8, y: 'argument2'):\n",
        "In the above code the argument, ‘x’ of the function func, has been annotated to float data type and the argument ‘y’ has a string-based annotation. The argument can also be assigned to a default value using a ‘=’ symbol followed by the default value. These default values are optional to the code.\n",
        "Annotations for return values:\n",
        "\n",
        "def func(a: expression) -> 'int':\n",
        "The annotations for the return value is written after the ‘->’ symbol.\n",
        "\n"
      ],
      "metadata": {
        "id": "qTmSP4WWm2Mj"
      }
    },
    {
      "cell_type": "code",
      "source": [
        "\n",
        "def fib(n:'float', b:'int')-> 'result': \n",
        "    pass\n",
        "print(fib.__annotations__)"
      ],
      "metadata": {
        "colab": {
          "base_uri": "https://localhost:8080/"
        },
        "id": "cEK5htF0nd9b",
        "outputId": "b56151c0-7a04-4172-a19d-3b3f5f18a434"
      },
      "execution_count": 4,
      "outputs": [
        {
          "output_type": "stream",
          "name": "stdout",
          "text": [
            "{'n': 'float', 'b': 'int', 'return': 'result'}\n"
          ]
        }
      ]
    },
    {
      "cell_type": "markdown",
      "source": [
        "5. What are recursive functions, and how are they used?"
      ],
      "metadata": {
        "id": "ITsktScNnc3Z"
      }
    },
    {
      "cell_type": "markdown",
      "source": [
        "Ans. A recursive function is a function that calls itself during its execution.\n",
        "This means that the function will continue to call itself and repeat its behavior until some condition is met to return a result"
      ],
      "metadata": {
        "id": "Mj19WBzzn3j8"
      }
    },
    {
      "cell_type": "code",
      "source": [
        "def fact(x):\n",
        "    if x == 1 :\n",
        "        return 1\n",
        "    else :\n",
        "        return x * fact(x-1) # recurtion\n",
        "    \n",
        "fact(3)"
      ],
      "metadata": {
        "colab": {
          "base_uri": "https://localhost:8080/"
        },
        "id": "nVKavokPnxgk",
        "outputId": "ec4183a3-56f0-4947-fa6b-c33884afea7b"
      },
      "execution_count": 5,
      "outputs": [
        {
          "output_type": "execute_result",
          "data": {
            "text/plain": [
              "6"
            ]
          },
          "metadata": {},
          "execution_count": 5
        }
      ]
    },
    {
      "cell_type": "markdown",
      "source": [
        "6. What are some general design guidelines for coding functions?"
      ],
      "metadata": {
        "id": "-CMgfmxAn_MS"
      }
    },
    {
      "cell_type": "markdown",
      "source": [
        "ans-1.Use 4-space indentation and no tabs.\n",
        "\n",
        "2.Use docstrings\n",
        "\n",
        "3.Wrap linethat they don’t exceed 79 characters\n",
        "\n",
        "4.Use of regular and updated comments are valuable to both the coders and users\n",
        "\n",
        "5.Use of trailing commas : in case of tuple -> ('good',)\n",
        "\n",
        "6.Use Python’s default UTF-8 or ASCII encodings and not any fancy encodings\n",
        "\n",
        "7Naming Conventions\n",
        "\n",
        "8.Characters that should not be used for identifiers : ‘l’ (lowercase letter el), ‘O’ (uppercase letter oh), ‘I’ (uppercase letter eye) as single character variable names as these are similar to the numerals one and zero. \n",
        "9. Don’t use non-ASCII characters in identifiers \n",
        "10. Name your classes and functions consistently \n",
        "11. While naming of function of methods always use self for the first argument"
      ],
      "metadata": {
        "id": "OsiaLBfXor0Q"
      }
    },
    {
      "cell_type": "markdown",
      "source": [
        "7. Name three or more ways that functions can communicate results to a caller."
      ],
      "metadata": {
        "id": "lO0dHmwwpVJk"
      }
    },
    {
      "cell_type": "markdown",
      "source": [
        "Ans.\n",
        "\n",
        "1.Function can return single value\n",
        "\n",
        "2.Can return multiple values, tuple\n",
        "\n",
        "3.can return list,dictionary\n",
        "\n",
        "4.can return function object\n",
        "\n",
        "5.can return class object"
      ],
      "metadata": {
        "id": "WHwwNJIBpcvt"
      }
    },
    {
      "cell_type": "code",
      "source": [],
      "metadata": {
        "id": "Gy0Y0g9qpZ5D"
      },
      "execution_count": null,
      "outputs": []
    }
  ]
}