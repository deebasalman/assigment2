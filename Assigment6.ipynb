{
  "nbformat": 4,
  "nbformat_minor": 0,
  "metadata": {
    "colab": {
      "provenance": []
    },
    "kernelspec": {
      "name": "python3",
      "display_name": "Python 3"
    },
    "language_info": {
      "name": "python"
    }
  },
  "cells": [
    {
      "cell_type": "markdown",
      "source": [
        "1. What are escape characters, and how do you use them?"
      ],
      "metadata": {
        "id": "AVTmtYt-LoEU"
      }
    },
    {
      "cell_type": "markdown",
      "source": [
        "ANS-- TO insert the character that are illegal to the string are escape character.Escape caharacter is followed by backslash."
      ],
      "metadata": {
        "id": "NKOaJGoyMKPt"
      }
    },
    {
      "cell_type": "markdown",
      "source": [
        "2. What do the escape characters n and t stand for?"
      ],
      "metadata": {
        "id": "L1NC3llkMxk7"
      }
    },
    {
      "cell_type": "markdown",
      "source": [
        "ANS-- \\n is use for new line,\n",
        "\\t is use for tab"
      ],
      "metadata": {
        "id": "9tJlTmcxM3R6"
      }
    },
    {
      "cell_type": "markdown",
      "source": [
        "3. What is the way to include backslash characters in a string?"
      ],
      "metadata": {
        "id": "-zvcUrTXNbLR"
      }
    },
    {
      "cell_type": "markdown",
      "source": [
        "ANS-- \\n ,\\t is the exanple"
      ],
      "metadata": {
        "id": "YHJgCr2oNedn"
      }
    },
    {
      "cell_type": "markdown",
      "source": [
        "4.The string \"Howl's Moving Castle\" is a correct value. Why isn't the single quote character in the word Howl's not escaped a problem?"
      ],
      "metadata": {
        "id": "Ff2WAIX1NnEh"
      }
    },
    {
      "cell_type": "markdown",
      "source": [
        "ANS-- Beause the string are given in the \" \"."
      ],
      "metadata": {
        "id": "El_dvMuXNzri"
      }
    },
    {
      "cell_type": "markdown",
      "source": [
        "5. How do you write a string of newlines if you don't want to use the n character?"
      ],
      "metadata": {
        "id": "VrMu-U02OCkf"
      }
    },
    {
      "cell_type": "markdown",
      "source": [
        "ANS-- we use multiline string i.e \"\"\"  \"\"\" "
      ],
      "metadata": {
        "id": "SQEPaP_3OKrD"
      }
    },
    {
      "cell_type": "markdown",
      "source": [
        "6.What are the values of the given expressions?\n",
        "\n",
        "'Hello, world!'[1]\n",
        "\n",
        "'Hello, world!'[0:5]\n",
        "\n",
        "'Hello, world!'[:5]\n",
        "\n",
        "'Hello, world!'[3:]"
      ],
      "metadata": {
        "id": "RxaYGTlFOfRV"
      }
    },
    {
      "cell_type": "markdown",
      "source": [
        "\n",
        "\n",
        "1.   e\n",
        "2.   Hello\n",
        "3.   Hello \n",
        "4.   lo, world\n",
        "\n"
      ],
      "metadata": {
        "id": "kw9nWuw-OqjO"
      }
    },
    {
      "cell_type": "markdown",
      "source": [
        "7.What are the values of the following expressions?\n",
        "\n",
        "'Hello'.upper()\n",
        "\n",
        "'Hello'.upper().isupper()\n",
        "\n",
        "'Hello'.upper().lower()"
      ],
      "metadata": {
        "id": "zxxq47M8PH2d"
      }
    },
    {
      "cell_type": "code",
      "source": [
        "'Hello'.upper()"
      ],
      "metadata": {
        "colab": {
          "base_uri": "https://localhost:8080/",
          "height": 35
        },
        "id": "t922fuGaPYAe",
        "outputId": "7b60c1b1-2ad4-41e8-a9ce-f835969695b7"
      },
      "execution_count": 1,
      "outputs": [
        {
          "output_type": "execute_result",
          "data": {
            "text/plain": [
              "'HELLO'"
            ],
            "application/vnd.google.colaboratory.intrinsic+json": {
              "type": "string"
            }
          },
          "metadata": {},
          "execution_count": 1
        }
      ]
    },
    {
      "cell_type": "code",
      "source": [
        "'Hello'.upper().isupper()"
      ],
      "metadata": {
        "colab": {
          "base_uri": "https://localhost:8080/"
        },
        "id": "MgT_CWkgMJU_",
        "outputId": "8390c3fd-9557-4f1f-9fc2-d54355e8e1ec"
      },
      "execution_count": 4,
      "outputs": [
        {
          "output_type": "execute_result",
          "data": {
            "text/plain": [
              "True"
            ]
          },
          "metadata": {},
          "execution_count": 4
        }
      ]
    },
    {
      "cell_type": "code",
      "source": [
        "'Hello'.upper().lower()"
      ],
      "metadata": {
        "colab": {
          "base_uri": "https://localhost:8080/",
          "height": 35
        },
        "id": "W_sBxsD9Pslr",
        "outputId": "fd6cb48f-deed-45fe-fffc-e42735b5d456"
      },
      "execution_count": 5,
      "outputs": [
        {
          "output_type": "execute_result",
          "data": {
            "text/plain": [
              "'hello'"
            ],
            "application/vnd.google.colaboratory.intrinsic+json": {
              "type": "string"
            }
          },
          "metadata": {},
          "execution_count": 5
        }
      ]
    },
    {
      "cell_type": "markdown",
      "source": [
        "8. What are the values of the following expressions?\n",
        "\n",
        "'Remember, remember, the fifth of July.'.split()\n",
        "\n",
        "'-'.join('There can only one.'.split())"
      ],
      "metadata": {
        "id": "_Ar4PxKjQLVt"
      }
    },
    {
      "cell_type": "code",
      "source": [
        "'Remember, remember, the fifth of July.'.split()"
      ],
      "metadata": {
        "colab": {
          "base_uri": "https://localhost:8080/"
        },
        "id": "Wgtgfes_QQki",
        "outputId": "799991cf-be1b-4f40-9d98-fc3359a2cf05"
      },
      "execution_count": 6,
      "outputs": [
        {
          "output_type": "execute_result",
          "data": {
            "text/plain": [
              "['Remember,', 'remember,', 'the', 'fifth', 'of', 'July.']"
            ]
          },
          "metadata": {},
          "execution_count": 6
        }
      ]
    },
    {
      "cell_type": "code",
      "source": [
        "'-'.join('There can only one.'.split())"
      ],
      "metadata": {
        "colab": {
          "base_uri": "https://localhost:8080/",
          "height": 35
        },
        "id": "34m1ZME0QaVQ",
        "outputId": "e9368754-770d-4e75-eccb-8bec685da88b"
      },
      "execution_count": 7,
      "outputs": [
        {
          "output_type": "execute_result",
          "data": {
            "text/plain": [
              "'There-can-only-one.'"
            ],
            "application/vnd.google.colaboratory.intrinsic+json": {
              "type": "string"
            }
          },
          "metadata": {},
          "execution_count": 7
        }
      ]
    },
    {
      "cell_type": "markdown",
      "source": [
        "9. What are the methods for right-justifying, left-justifying, and centering a string?"
      ],
      "metadata": {
        "id": "5JKkZ4sYQPJS"
      }
    },
    {
      "cell_type": "code",
      "source": [
        "a='ineuron'\n",
        "a.rjust(10)"
      ],
      "metadata": {
        "colab": {
          "base_uri": "https://localhost:8080/",
          "height": 35
        },
        "id": "ufvL0WVpQsqq",
        "outputId": "6e00cff4-0555-4b9e-f9cf-8a5abe320605"
      },
      "execution_count": 12,
      "outputs": [
        {
          "output_type": "execute_result",
          "data": {
            "text/plain": [
              "'   ineuron'"
            ],
            "application/vnd.google.colaboratory.intrinsic+json": {
              "type": "string"
            }
          },
          "metadata": {},
          "execution_count": 12
        }
      ]
    },
    {
      "cell_type": "code",
      "source": [
        "a.ljust(10)"
      ],
      "metadata": {
        "colab": {
          "base_uri": "https://localhost:8080/",
          "height": 35
        },
        "id": "fk3KJrSrRET6",
        "outputId": "c33e635b-cbe2-49bc-9a2a-dea977ab8d88"
      },
      "execution_count": 13,
      "outputs": [
        {
          "output_type": "execute_result",
          "data": {
            "text/plain": [
              "'ineuron   '"
            ],
            "application/vnd.google.colaboratory.intrinsic+json": {
              "type": "string"
            }
          },
          "metadata": {},
          "execution_count": 13
        }
      ]
    },
    {
      "cell_type": "code",
      "source": [
        "a.center(15)"
      ],
      "metadata": {
        "colab": {
          "base_uri": "https://localhost:8080/",
          "height": 35
        },
        "id": "HWpAe0NARKnS",
        "outputId": "420fcaa3-d814-4020-8cad-0a7ec4745b63"
      },
      "execution_count": 14,
      "outputs": [
        {
          "output_type": "execute_result",
          "data": {
            "text/plain": [
              "'    ineuron    '"
            ],
            "application/vnd.google.colaboratory.intrinsic+json": {
              "type": "string"
            }
          },
          "metadata": {},
          "execution_count": 14
        }
      ]
    },
    {
      "cell_type": "markdown",
      "source": [
        "10. What is the best way to remove whitespace characters from the start or end?"
      ],
      "metadata": {
        "id": "HMFhNVq8RYrp"
      }
    },
    {
      "cell_type": "markdown",
      "source": [
        "ANS-- lstrip and rstrip method is use to remove the whitespace fron the start or end of the string."
      ],
      "metadata": {
        "id": "owcm7j7_Rfok"
      }
    }
  ]
}