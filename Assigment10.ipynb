{
  "nbformat": 4,
  "nbformat_minor": 0,
  "metadata": {
    "colab": {
      "provenance": []
    },
    "kernelspec": {
      "name": "python3",
      "display_name": "Python 3"
    },
    "language_info": {
      "name": "python"
    }
  },
  "cells": [
    {
      "cell_type": "markdown",
      "source": [
        "1. How do you distinguish between shutil.copy() and shutil.copytree()?"
      ],
      "metadata": {
        "id": "xa7q6y4pzFLf"
      }
    },
    {
      "cell_type": "markdown",
      "source": [
        "Ans. shutil.copy : Copies a single file\n",
        "\n",
        "shutil.copytree() : will copy an entire folder and every folder and file contained in it"
      ],
      "metadata": {
        "id": "PDrfsbr6zMzk"
      }
    },
    {
      "cell_type": "markdown",
      "source": [
        "2. What function is used to rename files??"
      ],
      "metadata": {
        "id": "Bca2Jlj3zWCd"
      }
    },
    {
      "cell_type": "markdown",
      "source": [
        "Ans. import os\n",
        "\n",
        "os.rename(\"text.txt\",\"testnew.txt\")"
      ],
      "metadata": {
        "id": "IhE-FyY7IsMa"
      }
    },
    {
      "cell_type": "markdown",
      "source": [
        "3. What is the difference between the delete functions in the send2trash and shutil modules?"
      ],
      "metadata": {
        "id": "Ah11hSdxI3VO"
      }
    },
    {
      "cell_type": "markdown",
      "source": [
        "Ans. import shutil\n",
        "\n",
        "shutil.retree(): The shutil module’s rmtree() function can be used to delete files or folders. But, this function delete the files permanently. The operations cannot be undone if there were any accidental deletions performed\n",
        "\n",
        "import send2trash\n",
        "\n",
        "send2trash.send2trash() : Using send2trash, we can send files to the Trash or Recycle Bin instead of permanently\n",
        "deleting them. If the directory contains files or other folders, those are also deleted. A TrashPermissionError exception is raised, in case a file could not be deleted due to permission error or any other unexpected reason."
      ],
      "metadata": {
        "id": "IMF1WXZ3JGRL"
      }
    },
    {
      "cell_type": "markdown",
      "source": [
        "4.ZipFile objects have a close() method just like File objects’ close() method. What ZipFile method is\n",
        "equivalent to File objects’s open() method?"
      ],
      "metadata": {
        "id": "Kv0qZMloJqoi"
      }
    },
    {
      "cell_type": "markdown",
      "source": [
        "Ans. from zipfile import Zipfile\n",
        "\n",
        "with ZipFile(file_name, 'r') as zip: -> this code will open specified zipfile for us. we can use zip object to preform other operation the ziplife. like zip.read()"
      ],
      "metadata": {
        "id": "jXxjrfsiJ9ge"
      }
    },
    {
      "cell_type": "markdown",
      "source": [
        "5. Create a programme that searches a folder tree for files with a certain file extension (such as .pdf\n",
        "or .jpg). Copy these files from whatever location they are in to a new folder."
      ],
      "metadata": {
        "id": "bZ_fZX2BKHBa"
      }
    },
    {
      "cell_type": "code",
      "execution_count": null,
      "metadata": {
        "id": "hRYHUh4oyAr8"
      },
      "outputs": [],
      "source": [
        "import os, shutil\n",
        "\n",
        "def selectiveCopy(source, extensions, destination):\n",
        "    folder = os.path.abspath(source)\n",
        "    destination = os.path.abspath(destination)\n",
        "    print('Looking in', source, 'for files with extensions of', ', '.join(extensions))\n",
        "    for foldername, subfolders, filenames in os.walk(source):\n",
        "        for filename in filenames:\n",
        "            name, extension = os.path.splitext(filename)\n",
        "            if extension in extensions:\n",
        "                fileAbsPath = foldername + os.path.sep + filename\n",
        "                print('Coping', fileAbsPath, 'to', destination)\n",
        "                shutil.copy(fileAbsPath, destination)\n",
        "\n",
        "extensions = ['.mp4', '.pdf','.jpg']\n",
        "source = \"C:\\Users\\deeba\\Desktop\"\n",
        "destination = \"C:\\Users\\deeba\\Desktop\\abc\"\n",
        "selectiveCopy(source, extensions, destination)"
      ]
    }
  ]
}