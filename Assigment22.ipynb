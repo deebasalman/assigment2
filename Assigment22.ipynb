{
  "nbformat": 4,
  "nbformat_minor": 0,
  "metadata": {
    "colab": {
      "provenance": []
    },
    "kernelspec": {
      "name": "python3",
      "display_name": "Python 3"
    },
    "language_info": {
      "name": "python"
    }
  },
  "cells": [
    {
      "cell_type": "markdown",
      "source": [
        "1. What is the result of the code, and explain?\n",
        "\n",
        "X = 'iNeuron'\n",
        "def func():\n",
        "print(X)\n",
        "\n",
        " func()"
      ],
      "metadata": {
        "id": "ULgL8X4KZw3V"
      }
    },
    {
      "cell_type": "markdown",
      "source": [
        "Ans. The global variables are accessible in side the functions in python. \n",
        "But we can not access function variable out side function. \n",
        "Since x is global variable we are able to print it in side the function solution : 'iNeuron'"
      ],
      "metadata": {
        "id": "oAp4QZ5raaGh"
      }
    },
    {
      "cell_type": "code",
      "source": [
        "X='iNeuron'\n",
        "def func():\n",
        "  print(X)\n",
        "\n",
        "func()  "
      ],
      "metadata": {
        "colab": {
          "base_uri": "https://localhost:8080/"
        },
        "id": "LnPKXqn-aZDQ",
        "outputId": "62d14a41-f624-4265-9c57-9d72f60542df"
      },
      "execution_count": 1,
      "outputs": [
        {
          "output_type": "stream",
          "name": "stdout",
          "text": [
            "iNeuron\n"
          ]
        }
      ]
    },
    {
      "cell_type": "markdown",
      "source": [
        "2. What is the result of the code, and explain?\n",
        "\n",
        ">>> X = 'iNeuron' >>> def func(): X = 'NI!'\n",
        "\n",
        ">>> func() >>> print(X)"
      ],
      "metadata": {
        "id": "jM_m8uxua_ZR"
      }
    },
    {
      "cell_type": "markdown",
      "source": [
        "\n",
        "Ans. The global variables are access in side the functions in python. But we can not access function variable out side function.\n",
        " Since x is golbal variable we are able to print it out side of the function solution = 'iNeuron'"
      ],
      "metadata": {
        "id": "IlXzwCfNbMSP"
      }
    },
    {
      "cell_type": "code",
      "source": [
        "X = 'iNeuron'\n",
        "def func():\n",
        "    X = 'NI!'\n",
        "\n",
        "func()\n",
        "print(X)"
      ],
      "metadata": {
        "colab": {
          "base_uri": "https://localhost:8080/"
        },
        "id": "phWx3Ab3bAyI",
        "outputId": "3154d3c1-3efc-42da-f8b0-d52604d9765a"
      },
      "execution_count": 2,
      "outputs": [
        {
          "output_type": "stream",
          "name": "stdout",
          "text": [
            "iNeuron\n"
          ]
        }
      ]
    },
    {
      "cell_type": "markdown",
      "source": [
        "3. What does this code print, and why?\n",
        "\n",
        ">>> X = 'iNeuron' >>> def func(): X = 'NI' print(X)\n",
        "\n",
        ">>> func() >>> print(X)"
      ],
      "metadata": {
        "id": "qPcPeazkbbbp"
      }
    },
    {
      "cell_type": "markdown",
      "source": [
        "Ans. The global variables are access in side the functions in python. But we can not access function variable out side function.\n",
        " X is updated with 'NI' which is local to function and its immutable. its name space is with in the function solution = 'NI!', 'iNeuron'\n",
        "     "
      ],
      "metadata": {
        "id": "e4P2ZwiKbj6v"
      }
    },
    {
      "cell_type": "code",
      "execution_count": 3,
      "metadata": {
        "colab": {
          "base_uri": "https://localhost:8080/"
        },
        "id": "H-BlYZcJZrW-",
        "outputId": "5705d26c-a35c-49e6-8009-b37d39a9b42b"
      },
      "outputs": [
        {
          "output_type": "stream",
          "name": "stdout",
          "text": [
            "NI!\n",
            "iNeuron\n"
          ]
        }
      ],
      "source": [
        "X = 'iNeuron'\n",
        "def func():\n",
        "    X = 'NI!'\n",
        "    print(X)\n",
        "\n",
        "func()\n",
        "print(X)"
      ]
    },
    {
      "cell_type": "markdown",
      "source": [
        "4.. What output does this code produce? Why?\n",
        "\n",
        ">>> X = 'iNeuron' >>> def func(): global X X = 'NI'\n",
        "\n",
        ">>> func() >>> print(X)"
      ],
      "metadata": {
        "id": "MLQjPFNqc2vl"
      }
    },
    {
      "cell_type": "markdown",
      "source": [
        "Ans. since the X in side function is made Global, it will be accesible out side of the function too. "
      ],
      "metadata": {
        "id": "4OHSc43Bdf5l"
      }
    },
    {
      "cell_type": "code",
      "source": [
        "X = 'iNeuron'\n",
        "def func():\n",
        "    global X\n",
        "    X = 'NI!'\n",
        "    print(X)\n",
        "\n",
        "func()\n",
        "print(X)"
      ],
      "metadata": {
        "colab": {
          "base_uri": "https://localhost:8080/"
        },
        "id": "u-2kec4pc5ac",
        "outputId": "a88f0e1b-86ce-4839-f403-b28dfe47f5eb"
      },
      "execution_count": 4,
      "outputs": [
        {
          "output_type": "stream",
          "name": "stdout",
          "text": [
            "NI!\n",
            "NI!\n"
          ]
        }
      ]
    },
    {
      "cell_type": "markdown",
      "source": [
        "5. What about this code—what’s the output, and why?\n",
        "\n",
        ">>> X = 'iNeuron' >>> def func(): X = 'NI' def nested(): print(X) nested()\n",
        "\n",
        ">>> func() >>> X"
      ],
      "metadata": {
        "id": "yjWLqPk-dq11"
      }
    },
    {
      "cell_type": "markdown",
      "source": [
        "Ans. the nested() function will print 'iNeuron', Then func() does not display anything,and x ='NI' is not accessible out side the function.\n",
        "Solution : 'iNeuron'"
      ],
      "metadata": {
        "id": "l_N1Or4jd88r"
      }
    },
    {
      "cell_type": "code",
      "source": [
        "\n",
        "X = 'iNeuron'\n",
        "def func():\n",
        "    X = 'NI'\n",
        "def nested():\n",
        "    print(X)\n",
        "    \n",
        "nested()\n",
        "func()\n",
        "X"
      ],
      "metadata": {
        "colab": {
          "base_uri": "https://localhost:8080/",
          "height": 53
        },
        "id": "zq4MijVbdsRL",
        "outputId": "393ed92a-9f12-4ea6-8bca-bada653171db"
      },
      "execution_count": 5,
      "outputs": [
        {
          "output_type": "stream",
          "name": "stdout",
          "text": [
            "iNeuron\n"
          ]
        },
        {
          "output_type": "execute_result",
          "data": {
            "text/plain": [
              "'iNeuron'"
            ],
            "application/vnd.google.colaboratory.intrinsic+json": {
              "type": "string"
            }
          },
          "metadata": {},
          "execution_count": 5
        }
      ]
    },
    {
      "cell_type": "markdown",
      "source": [
        "6. How about this code: what is its output in Python 3, and explain?\n",
        "\n",
        ">>> def func(): X = 'NI' def nested(): nonlocal X X = 'Spam' nested() print(X)\n",
        "\n",
        ">>> func()"
      ],
      "metadata": {
        "id": "UKg-co4jeTeo"
      }
    },
    {
      "cell_type": "markdown",
      "source": [
        "Nonlocal variables are used in nested functions whose local scope is not defined. This means that the variable can be neither in the local nor the global scope. it print the updated value from nested function\n",
        "\n",
        "Sol : 'spam'"
      ],
      "metadata": {
        "id": "wKCgaQXdeeHC"
      }
    },
    {
      "cell_type": "code",
      "source": [
        "\n",
        "def func():\n",
        "    X = 'NI'\n",
        "    def nested():\n",
        "        nonlocal X\n",
        "        X = 'spam'\n",
        "    nested()\n",
        "    print(X)\n",
        "\n",
        "func()"
      ],
      "metadata": {
        "colab": {
          "base_uri": "https://localhost:8080/"
        },
        "id": "3vk-rZU0eXhS",
        "outputId": "f49346b3-6e25-4a0a-c3f5-96bf31ce27f9"
      },
      "execution_count": 6,
      "outputs": [
        {
          "output_type": "stream",
          "name": "stdout",
          "text": [
            "spam\n"
          ]
        }
      ]
    }
  ]
}