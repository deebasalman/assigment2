{
  "nbformat": 4,
  "nbformat_minor": 0,
  "metadata": {
    "colab": {
      "provenance": []
    },
    "kernelspec": {
      "name": "python3",
      "display_name": "Python 3"
    },
    "language_info": {
      "name": "python"
    }
  },
  "cells": [
    {
      "cell_type": "markdown",
      "source": [
        "#1.What are the two values of the Boolean data type? How do you write them?"
      ],
      "metadata": {
        "id": "n4ltjHxg2g4M"
      }
    },
    {
      "cell_type": "markdown",
      "source": [
        "Two Boolean types are true or false\n",
        "we write them in following way-"
      ],
      "metadata": {
        "id": "KjVMnbnG2j_V"
      }
    },
    {
      "cell_type": "code",
      "source": [
        "A= True\n",
        "B= False\n",
        "print(type(A))\n",
        "print(type(B))"
      ],
      "metadata": {
        "colab": {
          "base_uri": "https://localhost:8080/"
        },
        "id": "H7U-Vl_12quE",
        "outputId": "df8654a7-05fd-48a7-aeed-69ab94b00cca"
      },
      "execution_count": 1,
      "outputs": [
        {
          "output_type": "stream",
          "name": "stdout",
          "text": [
            "<class 'bool'>\n",
            "<class 'bool'>\n"
          ]
        }
      ]
    },
    {
      "cell_type": "markdown",
      "source": [
        "#2. What are the three different types of Boolean operators?"
      ],
      "metadata": {
        "id": "8aqjqXE43BQb"
      }
    },
    {
      "cell_type": "code",
      "source": [
        "Keywords\tMeaning\n",
        "not\t       unary negation\n",
        "and\t       conditional AND\n",
        "or\t       conditional OR"
      ],
      "metadata": {
        "id": "IH9gl3tw3XJu"
      },
      "execution_count": null,
      "outputs": []
    },
    {
      "cell_type": "markdown",
      "source": [
        "#3. Make a list of each Boolean operator&#39;s truth tables (i.e. every possible combination of Boolean\n",
        "#values for the operator and what it evaluate )."
      ],
      "metadata": {
        "id": "jqIM3Fhe4SsW"
      }
    },
    {
      "cell_type": "code",
      "source": [
        "and -conditional AND\n",
        "\n",
        "False\tFalse\t=False\n",
        "False\tTrue\t=False\n",
        "True\tFalse\t=False\n",
        "True\tTrue\t=True"
      ],
      "metadata": {
        "id": "J5j8RD984eth"
      },
      "execution_count": null,
      "outputs": []
    },
    {
      "cell_type": "code",
      "source": [
        "or -conditional OR\n",
        "\n",
        "False\tFalse\t=False\n",
        "False\tTrue\t=True\n",
        "True\tFalse\t=True\n",
        "True\tTrue\t=True"
      ],
      "metadata": {
        "id": "9FHZBAdG3YmU"
      },
      "execution_count": null,
      "outputs": []
    },
    {
      "cell_type": "code",
      "source": [
        "not\n",
        "\n",
        "True=True\n",
        "False=False"
      ],
      "metadata": {
        "id": "89U3xNpX4ssH"
      },
      "execution_count": null,
      "outputs": []
    },
    {
      "cell_type": "code",
      "source": [
        "#4. What are the values of the following expressions?\n",
        "\n",
        "(5 > 4) and (3 == 5) =False\n",
        "not (5 > 4)=False\n",
        "(5 > 4) or (3 == 5) =True\n",
        "not ((5 > 4) or (3 == 5))=False\n",
        "(True and True) and (True == False) = False\n",
        "(not False) or (not True) = True"
      ],
      "metadata": {
        "id": "AeZh6H6H40Rd"
      },
      "execution_count": null,
      "outputs": []
    },
    {
      "cell_type": "code",
      "source": [
        "5. What are the six comparison operators?\n",
        "1- == equal \n",
        "2- != not equal\n",
        "3- > greater then\n",
        "4- < smaller then\n",
        "5- >= greater then equal to\n",
        "6- <=smaller then equql to\n"
      ],
      "metadata": {
        "id": "rKWbh7ja41_Y"
      },
      "execution_count": null,
      "outputs": []
    },
    {
      "cell_type": "code",
      "source": [
        "#6. How do you tell the difference between the equal to and assignment operators?Describe a\n",
        "#condition and when you would use one.\n",
        "\n",
        "when we compair two things then we use == and when we assign a value in variable then we use = operator\n",
        "eg-\n",
        "a=10\n",
        "b=20\n",
        "if a==b:\n",
        "    print(b)\n",
        "else:\n",
        "    print(a)"
      ],
      "metadata": {
        "id": "IctN-HlB48a2"
      },
      "execution_count": null,
      "outputs": []
    },
    {
      "cell_type": "code",
      "source": [
        "7. Identify the three blocks in this code:\n",
        "spam = 0\n",
        "if spam == 10:\n",
        "    print(\"eggs\")\n",
        "if spam > 5:\n",
        "    print(\"bacon\")\n",
        "else:\n",
        "    print(\"ham\")\n",
        "print(\"spam\")\n",
        "print(\"spam\")"
      ],
      "metadata": {
        "id": "yg3rqKan5Ewv"
      },
      "execution_count": null,
      "outputs": []
    },
    {
      "cell_type": "code",
      "source": [
        "In above example their are three blocks.\n",
        "first if block spam ==10 it print eggs\n",
        "second if block spam>5 it prints bacon\n",
        "third else block prints ham\n",
        "last two statement is not indented so it is not a part of else block"
      ],
      "metadata": {
        "id": "l0oeV3f45Guw"
      },
      "execution_count": null,
      "outputs": []
    },
    {
      "cell_type": "code",
      "source": [
        "#8. Write code that prints Hello if 1 is stored in spam, prints Howdy if 2 is stored in spam, and prints\n",
        "#Greetings! if anything else is stored in spam."
      ],
      "metadata": {
        "id": "wWw_Cvzs5NtQ"
      },
      "execution_count": null,
      "outputs": []
    },
    {
      "cell_type": "code",
      "source": [
        "spam=int(input(\"enter the value in spam:\"))\n",
        "if spam==1:\n",
        "    print(\"hello\")\n",
        "    if spam==2:\n",
        "        print(\"howdy\")\n",
        "else:\n",
        "    print(\"greeting!\")"
      ],
      "metadata": {
        "colab": {
          "base_uri": "https://localhost:8080/"
        },
        "id": "nQZ7YUEE5VAA",
        "outputId": "5bc0ca4b-f0de-453f-b96b-d87e01be2e5f"
      },
      "execution_count": 2,
      "outputs": [
        {
          "output_type": "stream",
          "name": "stdout",
          "text": [
            "enter the value in spam:1\n",
            "hello\n"
          ]
        }
      ]
    },
    {
      "cell_type": "markdown",
      "source": [],
      "metadata": {
        "id": "Wc3YmPMM5ARZ"
      }
    },
    {
      "cell_type": "markdown",
      "source": [
        "\n",
        "\n"
      ],
      "metadata": {
        "id": "sYHERUGF3HK2"
      }
    },
    {
      "cell_type": "markdown",
      "source": [],
      "metadata": {
        "id": "xVvbdTzK3I-9"
      }
    },
    {
      "cell_type": "code",
      "execution_count": null,
      "metadata": {
        "id": "eP_ndF032Y2U"
      },
      "outputs": [],
      "source": []
    }
  ]
}