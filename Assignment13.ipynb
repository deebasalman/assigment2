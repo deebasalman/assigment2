{
  "nbformat": 4,
  "nbformat_minor": 0,
  "metadata": {
    "colab": {
      "provenance": []
    },
    "kernelspec": {
      "name": "python3",
      "display_name": "Python 3"
    },
    "language_info": {
      "name": "python"
    }
  },
  "cells": [
    {
      "cell_type": "markdown",
      "source": [
        "1. What advantages do Excel spreadsheets have over CSV spreadsheets?"
      ],
      "metadata": {
        "id": "Ab7VEIffeVr9"
      }
    },
    {
      "cell_type": "markdown",
      "source": [
        "Ans.\n",
        "\n",
        "1.It is a binary file that holds information about all the worksheets in a workbook\n",
        "\n",
        "2.An Excel not only stores data but can also do operations on the data\n",
        "\n",
        "3.Files saved in excel cannot be opened or edited by text editors\n",
        "\n",
        "4.large files user is much easier in Excel for the end user. Also, you can have additional functions like selecting individual cells for import, convert dates and time automatically, reading formulas and their results, filters, sorting, etc\n",
        "\n",
        "5.Apart from text, data can also be stored in form of charts and graphs\n",
        "\n",
        "6.Excel can connect to external data sources to fetch data. You can use custom add-in in Excel to increase its functionality.\n",
        "\n",
        "7.Excel allows for Review of Data with detailed tracking and commenting feature\n",
        "\n",
        "8.In Excel, spreadsheets can have values of data types other than strings; cells can have different fonts, sizes, or color settings; cells can have varying widths and heights; adjacent cells can be merged"
      ],
      "metadata": {
        "id": "LPjAb2KEerMg"
      }
    },
    {
      "cell_type": "markdown",
      "source": [
        "2.What do you pass to csv.reader() and csv.writer() to create reader and writer objects?"
      ],
      "metadata": {
        "id": "uLMcf4vdfWNS"
      }
    },
    {
      "cell_type": "code",
      "execution_count": null,
      "metadata": {
        "id": "rSdQNj7JeH1x"
      },
      "outputs": [],
      "source": [
        "import csv\n",
        "file_csv = open('abc.csv')\n",
        "filereader = csv.reader(file_csv)\n",
        "fileData = list(filereader)\n",
        "fileDat"
      ]
    },
    {
      "cell_type": "markdown",
      "source": [
        "3. What modes do File objects for reader and writer objects need to be opened in?"
      ],
      "metadata": {
        "id": "BixGTBt40SzP"
      }
    },
    {
      "cell_type": "markdown",
      "source": [
        "Ans. File objects need to be opened in read-binary ('rb') for Reader objects and write-binary ('wb') for Writer objects"
      ],
      "metadata": {
        "id": "RHr8CqBE0WEy"
      }
    },
    {
      "cell_type": "markdown",
      "source": [
        "4. What method takes a list argument and writes it to a CSV file?"
      ],
      "metadata": {
        "id": "uhf48gFi1ZtJ"
      }
    },
    {
      "cell_type": "code",
      "source": [
        "File_abc = open('abc.csv','w')\n",
        "File_Writer = csv.writer(File_abc)\n",
        "csv.writer(File_abc).writerow(['cat','fish','dog'])"
      ],
      "metadata": {
        "id": "VG-Mh-Ge2rXe"
      },
      "execution_count": null,
      "outputs": []
    },
    {
      "cell_type": "markdown",
      "source": [
        "5. What do the keyword arguments delimiter and line terminator do?"
      ],
      "metadata": {
        "id": "xh0oW3jN2q0w"
      }
    },
    {
      "cell_type": "markdown",
      "source": [
        "Ans.\n",
        "\n",
        "*The delimiter argument changes the string used to separate cells in a row.\n",
        "\n",
        "*The line terminator argument changes the string used to separate rows."
      ],
      "metadata": {
        "id": "960Y8Cyx3PZf"
      }
    },
    {
      "cell_type": "markdown",
      "source": [
        "6. What function takes a string of JSON data and returns a Python data structure?"
      ],
      "metadata": {
        "id": "CHFuW3LF3awE"
      }
    },
    {
      "cell_type": "markdown",
      "source": [
        "Ans. json.loads()"
      ],
      "metadata": {
        "id": "zaUd4SgS35-G"
      }
    },
    {
      "cell_type": "markdown",
      "source": [
        "Q. What function takes a Python data structure and returns a string of JSON data?"
      ],
      "metadata": {
        "id": "8SN10uik3yjO"
      }
    },
    {
      "cell_type": "markdown",
      "source": [
        "Ans. json.dumps()"
      ],
      "metadata": {
        "id": "Z96MWcil4A-c"
      }
    },
    {
      "cell_type": "code",
      "source": [],
      "metadata": {
        "id": "DeHwcVVn2_bO"
      },
      "execution_count": null,
      "outputs": []
    }
  ]
}